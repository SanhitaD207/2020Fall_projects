{
 "cells": [
  {
   "cell_type": "code",
   "execution_count": 85,
   "metadata": {
    "pycharm": {
     "is_executing": false
    }
   },
   "outputs": [],
   "source": [
    "import pandas as pd\n",
    "import numpy as np\n",
    "from datetime import datetime, time\n",
    "import matplotlib.pyplot as plt"
   ]
  },
  {
   "cell_type": "markdown",
   "metadata": {},
   "source": [
    "References:\n",
    "- https://www.kite.com/python/answers/how-to-select-rows-by-multiple-label-conditions-with-pandas-loc-in-python\n",
    "- https://stackoverflow.com/questions/50375985/pandas-add-column-with-value-based-on-condition-based-on-other-columns\n",
    "- https://stackoverflow.com/questions/19384532/get-statistics-for-each-group-such-as-count-mean-etc-using-pandas-groupby\n",
    "https://stackoverflow.com/questions/44111307/python-pandas-count-rows-based-on-column\n",
    "https://pandas.pydata.org/pandas-docs/stable/reference/api/pandas.DataFrame.astype.html\n",
    "https://datatofish.com/line-chart-python-matplotlib/\n",
    "https://pandas.pydata.org/pandas-docs/stable/reference/api/pandas.DataFrame.sort_values.html"
   ]
  },
  {
   "cell_type": "code",
   "execution_count": 9,
   "metadata": {
    "pycharm": {
     "is_executing": false
    }
   },
   "outputs": [],
   "source": [
    "crashes = pd.read_csv('Motor_Vehicle_Collisions_-_Crashes.csv', low_memory=False)"
   ]
  },
  {
   "cell_type": "code",
   "execution_count": 10,
   "metadata": {
    "pycharm": {
     "is_executing": true
    }
   },
   "outputs": [],
   "source": [
    "persons = pd.read_csv('Motor_Vehicle_Collisions_-_Person.csv', low_memory=False)"
   ]
  },
  {
   "cell_type": "code",
   "execution_count": 11,
   "metadata": {
    "pycharm": {
     "is_executing": true
    }
   },
   "outputs": [
    {
     "data": {
      "text/plain": [
       "Index(['CRASH DATE', 'CRASH TIME', 'BOROUGH', 'ZIP CODE', 'LATITUDE',\n",
       "       'LONGITUDE', 'LOCATION', 'ON STREET NAME', 'CROSS STREET NAME',\n",
       "       'OFF STREET NAME', 'NUMBER OF PERSONS INJURED',\n",
       "       'NUMBER OF PERSONS KILLED', 'NUMBER OF PEDESTRIANS INJURED',\n",
       "       'NUMBER OF PEDESTRIANS KILLED', 'NUMBER OF CYCLIST INJURED',\n",
       "       'NUMBER OF CYCLIST KILLED', 'NUMBER OF MOTORIST INJURED',\n",
       "       'NUMBER OF MOTORIST KILLED', 'CONTRIBUTING FACTOR VEHICLE 1',\n",
       "       'CONTRIBUTING FACTOR VEHICLE 2', 'CONTRIBUTING FACTOR VEHICLE 3',\n",
       "       'CONTRIBUTING FACTOR VEHICLE 4', 'CONTRIBUTING FACTOR VEHICLE 5',\n",
       "       'COLLISION_ID', 'VEHICLE TYPE CODE 1', 'VEHICLE TYPE CODE 2',\n",
       "       'VEHICLE TYPE CODE 3', 'VEHICLE TYPE CODE 4', 'VEHICLE TYPE CODE 5'],\n",
       "      dtype='object')"
      ]
     },
     "execution_count": 11,
     "metadata": {},
     "output_type": "execute_result"
    }
   ],
   "source": [
    "crashes.columns"
   ]
  },
  {
   "cell_type": "code",
   "execution_count": 12,
   "metadata": {
    "pycharm": {
     "is_executing": true
    }
   },
   "outputs": [
    {
     "data": {
      "text/plain": [
       "Index(['UNIQUE_ID', 'COLLISION_ID', 'CRASH_DATE', 'CRASH_TIME', 'PERSON_ID',\n",
       "       'PERSON_TYPE', 'PERSON_INJURY', 'VEHICLE_ID', 'PERSON_AGE', 'EJECTION',\n",
       "       'EMOTIONAL_STATUS', 'BODILY_INJURY', 'POSITION_IN_VEHICLE',\n",
       "       'SAFETY_EQUIPMENT', 'PED_LOCATION', 'PED_ACTION', 'COMPLAINT',\n",
       "       'PED_ROLE', 'CONTRIBUTING_FACTOR_1', 'CONTRIBUTING_FACTOR_2',\n",
       "       'PERSON_SEX'],\n",
       "      dtype='object')"
      ]
     },
     "execution_count": 12,
     "metadata": {},
     "output_type": "execute_result"
    }
   ],
   "source": [
    "persons.columns"
   ]
  },
  {
   "cell_type": "code",
   "execution_count": 13,
   "metadata": {
    "pycharm": {
     "is_executing": true
    }
   },
   "outputs": [
    {
     "data": {
      "text/plain": [
       "array(['Driver Inattention/Distraction', 'Turning Improperly',\n",
       "       'Following Too Closely', 'Unsafe Speed', 'Unspecified',\n",
       "       'Backing Unsafely', 'Unsafe Lane Changing',\n",
       "       'Traffic Control Disregarded', 'Passing Too Closely',\n",
       "       'Failure to Yield Right-of-Way', nan, 'Other Vehicular',\n",
       "       'Passing or Lane Usage Improper', 'Driverless/Runaway Vehicle',\n",
       "       'Reaction to Uninvolved Vehicle', 'Illnes', 'Driver Inexperience',\n",
       "       'Obstruction/Debris', 'Steering Failure', 'Alcohol Involvement',\n",
       "       'Tire Failure/Inadequate',\n",
       "       'Pedestrian/Bicyclist/Other Pedestrian Error/Confusion',\n",
       "       'View Obstructed/Limited', 'Outside Car Distraction',\n",
       "       'Pavement Slippery', 'Aggressive Driving/Road Rage',\n",
       "       'Passenger Distraction', 'Oversized Vehicle',\n",
       "       'Traffic Control Device Improper/Non-Working',\n",
       "       'Failure to Keep Right', 'Drugs (illegal)', 'Glare', 'Fell Asleep',\n",
       "       'Pavement Defective', 'Brakes Defective', 'Eating or Drinking',\n",
       "       'Lost Consciousness', 'Fatigued/Drowsy', 'Accelerator Defective',\n",
       "       'Vehicle Vandalism', 'Lane Marking Improper/Inadequate',\n",
       "       'Cell Phone (hand-Held)', 'Animals Action',\n",
       "       'Other Electronic Device', 'Prescription Medication',\n",
       "       'Windshield Inadequate', 'Other Lighting Defects',\n",
       "       'Using On Board Navigation Device', 'Physical Disability',\n",
       "       'Tinted Windows', 'Shoulders Defective/Improper',\n",
       "       'Listening/Using Headphones', 'Headlights Defective', 'Texting',\n",
       "       'Tow Hitch Defective', 'Cell Phone (hands-free)', 'Illness', '80',\n",
       "       'Reaction to Other Uninvolved Vehicle', 'Drugs (Illegal)', '1',\n",
       "       'Cell Phone (hand-held)'], dtype=object)"
      ]
     },
     "execution_count": 13,
     "metadata": {},
     "output_type": "execute_result"
    }
   ],
   "source": [
    "crashes['CONTRIBUTING FACTOR VEHICLE 1'].unique()"
   ]
  },
  {
   "cell_type": "code",
   "execution_count": 14,
   "metadata": {
    "pycharm": {
     "is_executing": true
    }
   },
   "outputs": [
    {
     "data": {
      "text/plain": [
       "Unspecified                                              36161\n",
       "Pedestrian/Bicyclist/Other Pedestrian Error/Confusion     8802\n",
       "Driver Inattention/Distraction                            1797\n",
       "Failure to Yield Right-of-Way                             1434\n",
       "Traffic Control Disregarded                                865\n",
       "Alcohol Involvement                                        851\n",
       "Other Vehicular                                            632\n",
       "View Obstructed/Limited                                    350\n",
       "Cell Phone (hand-Held)                                     226\n",
       "Backing Unsafely                                           155\n",
       "Passing or Lane Usage Improper                             125\n",
       "Passing Too Closely                                        104\n",
       "Aggressive Driving/Road Rage                                95\n",
       "Pavement Slippery                                           79\n",
       "Passenger Distraction                                       77\n",
       "Unsafe Speed                                                72\n",
       "Following Too Closely                                       49\n",
       "Listening/Using Headphones                                  43\n",
       "Physical Disability                                         41\n",
       "Reaction to Uninvolved Vehicle                              41\n",
       "Outside Car Distraction                                     38\n",
       "Driver Inexperience                                         37\n",
       "Glare                                                       32\n",
       "Animals Action                                              27\n",
       "Obstruction/Debris                                          27\n",
       "Drugs (illegal)                                             26\n",
       "Turning Improperly                                          24\n",
       "Other Electronic Device                                     20\n",
       "Texting                                                     18\n",
       "Traffic Control Device Improper/Non-Working                 16\n",
       "Driverless/Runaway Vehicle                                  16\n",
       "Fatigued/Drowsy                                             12\n",
       "Pavement Defective                                          12\n",
       "Failure to Keep Right                                       12\n",
       "Illnes                                                      12\n",
       "Fell Asleep                                                  9\n",
       "Prescription Medication                                      9\n",
       "Unsafe Lane Changing                                         9\n",
       "Oversized Vehicle                                            8\n",
       "Lost Consciousness                                           7\n",
       "Lane Marking Improper/Inadequate                             7\n",
       "Vehicle Vandalism                                            5\n",
       "Cell Phone (hands-free)                                      4\n",
       "Eating or Drinking                                           4\n",
       "Brakes Defective                                             2\n",
       "Shoulders Defective/Improper                                 1\n",
       "Other Lighting Defects                                       1\n",
       "Headlights Defective                                         1\n",
       "Tire Failure/Inadequate                                      1\n",
       "Windshield Inadequate                                        1\n",
       "Tinted Windows                                               1\n",
       "Using On Board Navigation Device                             1\n",
       "Steering Failure                                             1\n",
       "Name: CONTRIBUTING_FACTOR_1, dtype: int64"
      ]
     },
     "execution_count": 14,
     "metadata": {},
     "output_type": "execute_result"
    }
   ],
   "source": [
    "persons['CONTRIBUTING_FACTOR_1'].value_counts()"
   ]
  },
  {
   "cell_type": "code",
   "execution_count": null,
   "metadata": {
    "pycharm": {
     "is_executing": true
    }
   },
   "outputs": [],
   "source": []
  },
  {
   "cell_type": "code",
   "execution_count": null,
   "metadata": {
    "pycharm": {
     "is_executing": true
    }
   },
   "outputs": [],
   "source": []
  },
  {
   "cell_type": "code",
   "execution_count": null,
   "metadata": {
    "pycharm": {
     "is_executing": true
    }
   },
   "outputs": [],
   "source": []
  },
  {
   "cell_type": "code",
   "execution_count": null,
   "metadata": {
    "pycharm": {
     "is_executing": true
    }
   },
   "outputs": [],
   "source": []
  },
  {
   "cell_type": "code",
   "execution_count": null,
   "metadata": {
    "pycharm": {
     "is_executing": true
    }
   },
   "outputs": [],
   "source": []
  },
  {
   "cell_type": "code",
   "execution_count": null,
   "metadata": {},
   "outputs": [],
   "source": []
  },
  {
   "cell_type": "markdown",
   "metadata": {},
   "source": [
    "## Hypothesis:\n",
    "#### Of all collisions occurring late in the night (between 12 am - 5 am), the majority are caused due to overspeeding."
   ]
  },
  {
   "cell_type": "code",
   "execution_count": 15,
   "metadata": {},
   "outputs": [],
   "source": [
    "def get_night_crashes(crashes):\n",
    "    \n",
    "    time_data = crashes['CRASH TIME']\n",
    "    crashes['CRASH TIME'] = crashes['CRASH TIME'].apply(lambda x: datetime.strptime(x, \"%H:%M\").time())\n",
    "\n",
    "    night_crash_data = crashes[(crashes['CRASH TIME'] < time(5, 0, 0))]\n",
    "\n",
    "    return night_crash_data"
   ]
  },
  {
   "cell_type": "code",
   "execution_count": 16,
   "metadata": {
    "scrolled": false
   },
   "outputs": [],
   "source": [
    "night_crash_data = get_night_crashes(crashes)"
   ]
  },
  {
   "cell_type": "code",
   "execution_count": 17,
   "metadata": {},
   "outputs": [],
   "source": [
    "# night_crash_data['hasUnsafeSpeed'] = np.where((night_crash_data['CONTRIBUTING FACTOR VEHICLE 1']=='Unsafe Speed' | night_crash_data['CONTRIBUTING FACTOR VEHICLE 2']=='Unsafe Speed' | night_crash_data['CONTRIBUTING FACTOR VEHICLE 3']=='Unsafe Speed' | night_crash_data['CONTRIBUTING FACTOR VEHICLE 4']=='Unsafe Speed' | night_crash_data['CONTRIBUTING FACTOR VEHICLE 5']=='Unsafe Speed'), True, False)"
   ]
  },
  {
   "cell_type": "code",
   "execution_count": 18,
   "metadata": {},
   "outputs": [],
   "source": [
    "# night_crash_vehicle1 = night_crash_data[(night_crash_data['CONTRIBUTING FACTOR VEHICLE 1'].notnull() & night_crash_data['CONTRIBUTING FACTOR VEHICLE 2'].isnull() & night_crash_data['CONTRIBUTING FACTOR VEHICLE 3'].isnull() & night_crash_data['CONTRIBUTING FACTOR VEHICLE 4'].isnull() & night_crash_data['CONTRIBUTING FACTOR VEHICLE 5'].isnull())]\n",
    "# night_crash_vehicle1"
   ]
  },
  {
   "cell_type": "code",
   "execution_count": 19,
   "metadata": {
    "scrolled": true
   },
   "outputs": [],
   "source": [
    "# night_crash_vehicle1['CONTRIBUTING FACTOR VEHICLE 1'].value_counts()"
   ]
  },
  {
   "cell_type": "code",
   "execution_count": 20,
   "metadata": {},
   "outputs": [],
   "source": [
    "# night_crash_vehicle2 = night_crash_data[(night_crash_data['CONTRIBUTING FACTOR VEHICLE 1'].notnull() & night_crash_data['CONTRIBUTING FACTOR VEHICLE 2'].notnull() & night_crash_data['CONTRIBUTING FACTOR VEHICLE 3'].isnull() & night_crash_data['CONTRIBUTING FACTOR VEHICLE 4'].isnull() & night_crash_data['CONTRIBUTING FACTOR VEHICLE 5'].isnull())]\n",
    "# night_crash_vehicle2"
   ]
  },
  {
   "cell_type": "code",
   "execution_count": 21,
   "metadata": {},
   "outputs": [],
   "source": [
    "# night_crash_vehicle2['CONTRIBUTING FACTOR VEHICLE 2'].value_counts()"
   ]
  },
  {
   "cell_type": "code",
   "execution_count": null,
   "metadata": {},
   "outputs": [],
   "source": []
  },
  {
   "cell_type": "code",
   "execution_count": 22,
   "metadata": {},
   "outputs": [],
   "source": [
    "# night_crash_data"
   ]
  },
  {
   "cell_type": "code",
   "execution_count": null,
   "metadata": {},
   "outputs": [],
   "source": []
  },
  {
   "cell_type": "code",
   "execution_count": 23,
   "metadata": {},
   "outputs": [],
   "source": [
    "night_crash_data = night_crash_data.assign(hasUnsafeSpeed=False)"
   ]
  },
  {
   "cell_type": "code",
   "execution_count": 24,
   "metadata": {},
   "outputs": [],
   "source": [
    "night_crash_data.loc[((night_crash_data['CONTRIBUTING FACTOR VEHICLE 1']=='Unsafe Speed') | (night_crash_data['CONTRIBUTING FACTOR VEHICLE 2']=='Unsafe Speed') | (night_crash_data['CONTRIBUTING FACTOR VEHICLE 3']=='Unsafe Speed') | (night_crash_data['CONTRIBUTING FACTOR VEHICLE 4']=='Unsafe Speed') | (night_crash_data['CONTRIBUTING FACTOR VEHICLE 5']=='Unsafe Speed')), 'hasUnsafeSpeed'] = True"
   ]
  },
  {
   "cell_type": "code",
   "execution_count": 25,
   "metadata": {
    "scrolled": false
   },
   "outputs": [
    {
     "data": {
      "text/html": [
       "<div>\n",
       "<style scoped>\n",
       "    .dataframe tbody tr th:only-of-type {\n",
       "        vertical-align: middle;\n",
       "    }\n",
       "\n",
       "    .dataframe tbody tr th {\n",
       "        vertical-align: top;\n",
       "    }\n",
       "\n",
       "    .dataframe thead th {\n",
       "        text-align: right;\n",
       "    }\n",
       "</style>\n",
       "<table border=\"1\" class=\"dataframe\">\n",
       "  <thead>\n",
       "    <tr style=\"text-align: right;\">\n",
       "      <th></th>\n",
       "      <th>CRASH DATE</th>\n",
       "      <th>CRASH TIME</th>\n",
       "      <th>BOROUGH</th>\n",
       "      <th>ZIP CODE</th>\n",
       "      <th>LATITUDE</th>\n",
       "      <th>LONGITUDE</th>\n",
       "      <th>LOCATION</th>\n",
       "      <th>ON STREET NAME</th>\n",
       "      <th>CROSS STREET NAME</th>\n",
       "      <th>OFF STREET NAME</th>\n",
       "      <th>...</th>\n",
       "      <th>CONTRIBUTING FACTOR VEHICLE 3</th>\n",
       "      <th>CONTRIBUTING FACTOR VEHICLE 4</th>\n",
       "      <th>CONTRIBUTING FACTOR VEHICLE 5</th>\n",
       "      <th>COLLISION_ID</th>\n",
       "      <th>VEHICLE TYPE CODE 1</th>\n",
       "      <th>VEHICLE TYPE CODE 2</th>\n",
       "      <th>VEHICLE TYPE CODE 3</th>\n",
       "      <th>VEHICLE TYPE CODE 4</th>\n",
       "      <th>VEHICLE TYPE CODE 5</th>\n",
       "      <th>hasUnsafeSpeed</th>\n",
       "    </tr>\n",
       "  </thead>\n",
       "  <tbody>\n",
       "    <tr>\n",
       "      <th>11</th>\n",
       "      <td>06/16/2018</td>\n",
       "      <td>00:05:00</td>\n",
       "      <td>MANHATTAN</td>\n",
       "      <td>10002</td>\n",
       "      <td>40.719970</td>\n",
       "      <td>-73.992905</td>\n",
       "      <td>(40.71997, -73.992905)</td>\n",
       "      <td>DELANCEY STREET</td>\n",
       "      <td>CHRYSTIE STREET</td>\n",
       "      <td>NaN</td>\n",
       "      <td>...</td>\n",
       "      <td>NaN</td>\n",
       "      <td>NaN</td>\n",
       "      <td>NaN</td>\n",
       "      <td>3922402</td>\n",
       "      <td>Station Wagon/Sport Utility Vehicle</td>\n",
       "      <td>Station Wagon/Sport Utility Vehicle</td>\n",
       "      <td>NaN</td>\n",
       "      <td>NaN</td>\n",
       "      <td>NaN</td>\n",
       "      <td>False</td>\n",
       "    </tr>\n",
       "    <tr>\n",
       "      <th>12</th>\n",
       "      <td>06/19/2018</td>\n",
       "      <td>01:00:00</td>\n",
       "      <td>QUEENS</td>\n",
       "      <td>11377</td>\n",
       "      <td>40.758960</td>\n",
       "      <td>-73.898384</td>\n",
       "      <td>(40.75896, -73.898384)</td>\n",
       "      <td>NaN</td>\n",
       "      <td>NaN</td>\n",
       "      <td>30-46     69 STREET</td>\n",
       "      <td>...</td>\n",
       "      <td>NaN</td>\n",
       "      <td>NaN</td>\n",
       "      <td>NaN</td>\n",
       "      <td>3926636</td>\n",
       "      <td>Sedan</td>\n",
       "      <td>Sedan</td>\n",
       "      <td>NaN</td>\n",
       "      <td>NaN</td>\n",
       "      <td>NaN</td>\n",
       "      <td>False</td>\n",
       "    </tr>\n",
       "    <tr>\n",
       "      <th>18</th>\n",
       "      <td>06/15/2018</td>\n",
       "      <td>00:52:00</td>\n",
       "      <td>NaN</td>\n",
       "      <td>NaN</td>\n",
       "      <td>40.780125</td>\n",
       "      <td>-73.953040</td>\n",
       "      <td>(40.780125, -73.95304)</td>\n",
       "      <td>3 AVENUE</td>\n",
       "      <td>NaN</td>\n",
       "      <td>NaN</td>\n",
       "      <td>...</td>\n",
       "      <td>NaN</td>\n",
       "      <td>NaN</td>\n",
       "      <td>NaN</td>\n",
       "      <td>3924614</td>\n",
       "      <td>Bike</td>\n",
       "      <td>Taxi</td>\n",
       "      <td>NaN</td>\n",
       "      <td>NaN</td>\n",
       "      <td>NaN</td>\n",
       "      <td>False</td>\n",
       "    </tr>\n",
       "    <tr>\n",
       "      <th>25</th>\n",
       "      <td>06/04/2018</td>\n",
       "      <td>00:53:00</td>\n",
       "      <td>BROOKLYN</td>\n",
       "      <td>11238</td>\n",
       "      <td>40.673290</td>\n",
       "      <td>-73.957030</td>\n",
       "      <td>(40.67329, -73.95703)</td>\n",
       "      <td>STERLING PLACE</td>\n",
       "      <td>FRANKLIN AVENUE</td>\n",
       "      <td>NaN</td>\n",
       "      <td>...</td>\n",
       "      <td>NaN</td>\n",
       "      <td>NaN</td>\n",
       "      <td>NaN</td>\n",
       "      <td>3915438</td>\n",
       "      <td>Sedan</td>\n",
       "      <td>Sedan</td>\n",
       "      <td>NaN</td>\n",
       "      <td>NaN</td>\n",
       "      <td>NaN</td>\n",
       "      <td>False</td>\n",
       "    </tr>\n",
       "    <tr>\n",
       "      <th>54</th>\n",
       "      <td>06/26/2018</td>\n",
       "      <td>01:50:00</td>\n",
       "      <td>QUEENS</td>\n",
       "      <td>11101</td>\n",
       "      <td>40.748943</td>\n",
       "      <td>-73.954110</td>\n",
       "      <td>(40.748943, -73.95411)</td>\n",
       "      <td>NaN</td>\n",
       "      <td>NaN</td>\n",
       "      <td>5-26      45 AVENUE</td>\n",
       "      <td>...</td>\n",
       "      <td>NaN</td>\n",
       "      <td>NaN</td>\n",
       "      <td>NaN</td>\n",
       "      <td>3929104</td>\n",
       "      <td>Armored Truck</td>\n",
       "      <td>Sedan</td>\n",
       "      <td>NaN</td>\n",
       "      <td>NaN</td>\n",
       "      <td>NaN</td>\n",
       "      <td>False</td>\n",
       "    </tr>\n",
       "    <tr>\n",
       "      <th>...</th>\n",
       "      <td>...</td>\n",
       "      <td>...</td>\n",
       "      <td>...</td>\n",
       "      <td>...</td>\n",
       "      <td>...</td>\n",
       "      <td>...</td>\n",
       "      <td>...</td>\n",
       "      <td>...</td>\n",
       "      <td>...</td>\n",
       "      <td>...</td>\n",
       "      <td>...</td>\n",
       "      <td>...</td>\n",
       "      <td>...</td>\n",
       "      <td>...</td>\n",
       "      <td>...</td>\n",
       "      <td>...</td>\n",
       "      <td>...</td>\n",
       "      <td>...</td>\n",
       "      <td>...</td>\n",
       "      <td>...</td>\n",
       "      <td>...</td>\n",
       "    </tr>\n",
       "    <tr>\n",
       "      <th>1731715</th>\n",
       "      <td>07/01/2012</td>\n",
       "      <td>02:45:00</td>\n",
       "      <td>BROOKLYN</td>\n",
       "      <td>11226</td>\n",
       "      <td>40.643185</td>\n",
       "      <td>-73.949729</td>\n",
       "      <td>(40.6431849, -73.9497292)</td>\n",
       "      <td>EAST 29 STREET</td>\n",
       "      <td>CLARENDON ROAD</td>\n",
       "      <td>NaN</td>\n",
       "      <td>...</td>\n",
       "      <td>NaN</td>\n",
       "      <td>NaN</td>\n",
       "      <td>NaN</td>\n",
       "      <td>135073</td>\n",
       "      <td>PASSENGER VEHICLE</td>\n",
       "      <td>PASSENGER VEHICLE</td>\n",
       "      <td>NaN</td>\n",
       "      <td>NaN</td>\n",
       "      <td>NaN</td>\n",
       "      <td>False</td>\n",
       "    </tr>\n",
       "    <tr>\n",
       "      <th>1731716</th>\n",
       "      <td>07/01/2012</td>\n",
       "      <td>02:30:00</td>\n",
       "      <td>BRONX</td>\n",
       "      <td>10464</td>\n",
       "      <td>40.856551</td>\n",
       "      <td>-73.791364</td>\n",
       "      <td>(40.8565513, -73.7913635)</td>\n",
       "      <td>CITY ISLAND AVENUE</td>\n",
       "      <td>BRIDGE STREET</td>\n",
       "      <td>NaN</td>\n",
       "      <td>...</td>\n",
       "      <td>Unspecified</td>\n",
       "      <td>Unspecified</td>\n",
       "      <td>NaN</td>\n",
       "      <td>88523</td>\n",
       "      <td>PASSENGER VEHICLE</td>\n",
       "      <td>PASSENGER VEHICLE</td>\n",
       "      <td>PASSENGER VEHICLE</td>\n",
       "      <td>PASSENGER VEHICLE</td>\n",
       "      <td>NaN</td>\n",
       "      <td>False</td>\n",
       "    </tr>\n",
       "    <tr>\n",
       "      <th>1731717</th>\n",
       "      <td>07/01/2012</td>\n",
       "      <td>04:00:00</td>\n",
       "      <td>QUEENS</td>\n",
       "      <td>11372</td>\n",
       "      <td>40.747137</td>\n",
       "      <td>-73.892408</td>\n",
       "      <td>(40.7471367, -73.8924084)</td>\n",
       "      <td>BROADWAY</td>\n",
       "      <td>73 STREET</td>\n",
       "      <td>NaN</td>\n",
       "      <td>...</td>\n",
       "      <td>NaN</td>\n",
       "      <td>NaN</td>\n",
       "      <td>NaN</td>\n",
       "      <td>279798</td>\n",
       "      <td>PASSENGER VEHICLE</td>\n",
       "      <td>PASSENGER VEHICLE</td>\n",
       "      <td>NaN</td>\n",
       "      <td>NaN</td>\n",
       "      <td>NaN</td>\n",
       "      <td>False</td>\n",
       "    </tr>\n",
       "    <tr>\n",
       "      <th>1731720</th>\n",
       "      <td>07/01/2012</td>\n",
       "      <td>03:30:00</td>\n",
       "      <td>BROOKLYN</td>\n",
       "      <td>11234</td>\n",
       "      <td>40.616509</td>\n",
       "      <td>-73.933919</td>\n",
       "      <td>(40.6165086, -73.9339188)</td>\n",
       "      <td>KIMBALL STREET</td>\n",
       "      <td>QUENTIN ROAD</td>\n",
       "      <td>NaN</td>\n",
       "      <td>...</td>\n",
       "      <td>NaN</td>\n",
       "      <td>NaN</td>\n",
       "      <td>NaN</td>\n",
       "      <td>125661</td>\n",
       "      <td>PASSENGER VEHICLE</td>\n",
       "      <td>AMBULANCE</td>\n",
       "      <td>NaN</td>\n",
       "      <td>NaN</td>\n",
       "      <td>NaN</td>\n",
       "      <td>False</td>\n",
       "    </tr>\n",
       "    <tr>\n",
       "      <th>1731721</th>\n",
       "      <td>07/01/2012</td>\n",
       "      <td>04:50:00</td>\n",
       "      <td>MANHATTAN</td>\n",
       "      <td>10009</td>\n",
       "      <td>40.723506</td>\n",
       "      <td>-73.979281</td>\n",
       "      <td>(40.7235061, -73.9792808)</td>\n",
       "      <td>EAST 6 STREET</td>\n",
       "      <td>AVENUE C</td>\n",
       "      <td>NaN</td>\n",
       "      <td>...</td>\n",
       "      <td>NaN</td>\n",
       "      <td>NaN</td>\n",
       "      <td>NaN</td>\n",
       "      <td>13866</td>\n",
       "      <td>PASSENGER VEHICLE</td>\n",
       "      <td>NaN</td>\n",
       "      <td>NaN</td>\n",
       "      <td>NaN</td>\n",
       "      <td>NaN</td>\n",
       "      <td>False</td>\n",
       "    </tr>\n",
       "  </tbody>\n",
       "</table>\n",
       "<p>139029 rows × 30 columns</p>\n",
       "</div>"
      ],
      "text/plain": [
       "         CRASH DATE CRASH TIME    BOROUGH ZIP CODE   LATITUDE  LONGITUDE  \\\n",
       "11       06/16/2018   00:05:00  MANHATTAN    10002  40.719970 -73.992905   \n",
       "12       06/19/2018   01:00:00     QUEENS    11377  40.758960 -73.898384   \n",
       "18       06/15/2018   00:52:00        NaN      NaN  40.780125 -73.953040   \n",
       "25       06/04/2018   00:53:00   BROOKLYN    11238  40.673290 -73.957030   \n",
       "54       06/26/2018   01:50:00     QUEENS    11101  40.748943 -73.954110   \n",
       "...             ...        ...        ...      ...        ...        ...   \n",
       "1731715  07/01/2012   02:45:00   BROOKLYN    11226  40.643185 -73.949729   \n",
       "1731716  07/01/2012   02:30:00      BRONX    10464  40.856551 -73.791364   \n",
       "1731717  07/01/2012   04:00:00     QUEENS    11372  40.747137 -73.892408   \n",
       "1731720  07/01/2012   03:30:00   BROOKLYN    11234  40.616509 -73.933919   \n",
       "1731721  07/01/2012   04:50:00  MANHATTAN    10009  40.723506 -73.979281   \n",
       "\n",
       "                          LOCATION                    ON STREET NAME  \\\n",
       "11          (40.71997, -73.992905)  DELANCEY STREET                    \n",
       "12          (40.75896, -73.898384)                               NaN   \n",
       "18          (40.780125, -73.95304)  3 AVENUE                           \n",
       "25           (40.67329, -73.95703)  STERLING PLACE                     \n",
       "54          (40.748943, -73.95411)                               NaN   \n",
       "...                            ...                               ...   \n",
       "1731715  (40.6431849, -73.9497292)  EAST 29 STREET                     \n",
       "1731716  (40.8565513, -73.7913635)  CITY ISLAND AVENUE                 \n",
       "1731717  (40.7471367, -73.8924084)  BROADWAY                           \n",
       "1731720  (40.6165086, -73.9339188)  KIMBALL STREET                     \n",
       "1731721  (40.7235061, -73.9792808)  EAST 6 STREET                      \n",
       "\n",
       "                        CROSS STREET NAME  \\\n",
       "11                        CHRYSTIE STREET   \n",
       "12                                    NaN   \n",
       "18                                    NaN   \n",
       "25                        FRANKLIN AVENUE   \n",
       "54                                    NaN   \n",
       "...                                   ...   \n",
       "1731715  CLARENDON ROAD                     \n",
       "1731716  BRIDGE STREET                      \n",
       "1731717  73 STREET                          \n",
       "1731720  QUENTIN ROAD                       \n",
       "1731721  AVENUE C                           \n",
       "\n",
       "                                  OFF STREET NAME  ...  \\\n",
       "11                                            NaN  ...   \n",
       "12       30-46     69 STREET                       ...   \n",
       "18                                            NaN  ...   \n",
       "25                                            NaN  ...   \n",
       "54       5-26      45 AVENUE                       ...   \n",
       "...                                           ...  ...   \n",
       "1731715                                       NaN  ...   \n",
       "1731716                                       NaN  ...   \n",
       "1731717                                       NaN  ...   \n",
       "1731720                                       NaN  ...   \n",
       "1731721                                       NaN  ...   \n",
       "\n",
       "         CONTRIBUTING FACTOR VEHICLE 3  CONTRIBUTING FACTOR VEHICLE 4  \\\n",
       "11                                 NaN                            NaN   \n",
       "12                                 NaN                            NaN   \n",
       "18                                 NaN                            NaN   \n",
       "25                                 NaN                            NaN   \n",
       "54                                 NaN                            NaN   \n",
       "...                                ...                            ...   \n",
       "1731715                            NaN                            NaN   \n",
       "1731716                    Unspecified                    Unspecified   \n",
       "1731717                            NaN                            NaN   \n",
       "1731720                            NaN                            NaN   \n",
       "1731721                            NaN                            NaN   \n",
       "\n",
       "         CONTRIBUTING FACTOR VEHICLE 5  COLLISION_ID  \\\n",
       "11                                 NaN       3922402   \n",
       "12                                 NaN       3926636   \n",
       "18                                 NaN       3924614   \n",
       "25                                 NaN       3915438   \n",
       "54                                 NaN       3929104   \n",
       "...                                ...           ...   \n",
       "1731715                            NaN        135073   \n",
       "1731716                            NaN         88523   \n",
       "1731717                            NaN        279798   \n",
       "1731720                            NaN        125661   \n",
       "1731721                            NaN         13866   \n",
       "\n",
       "                         VEHICLE TYPE CODE 1  \\\n",
       "11       Station Wagon/Sport Utility Vehicle   \n",
       "12                                     Sedan   \n",
       "18                                      Bike   \n",
       "25                                     Sedan   \n",
       "54                             Armored Truck   \n",
       "...                                      ...   \n",
       "1731715                    PASSENGER VEHICLE   \n",
       "1731716                    PASSENGER VEHICLE   \n",
       "1731717                    PASSENGER VEHICLE   \n",
       "1731720                    PASSENGER VEHICLE   \n",
       "1731721                    PASSENGER VEHICLE   \n",
       "\n",
       "                         VEHICLE TYPE CODE 2  VEHICLE TYPE CODE 3  \\\n",
       "11       Station Wagon/Sport Utility Vehicle                  NaN   \n",
       "12                                     Sedan                  NaN   \n",
       "18                                      Taxi                  NaN   \n",
       "25                                     Sedan                  NaN   \n",
       "54                                     Sedan                  NaN   \n",
       "...                                      ...                  ...   \n",
       "1731715                    PASSENGER VEHICLE                  NaN   \n",
       "1731716                    PASSENGER VEHICLE    PASSENGER VEHICLE   \n",
       "1731717                    PASSENGER VEHICLE                  NaN   \n",
       "1731720                            AMBULANCE                  NaN   \n",
       "1731721                                  NaN                  NaN   \n",
       "\n",
       "         VEHICLE TYPE CODE 4 VEHICLE TYPE CODE 5 hasUnsafeSpeed  \n",
       "11                       NaN                 NaN          False  \n",
       "12                       NaN                 NaN          False  \n",
       "18                       NaN                 NaN          False  \n",
       "25                       NaN                 NaN          False  \n",
       "54                       NaN                 NaN          False  \n",
       "...                      ...                 ...            ...  \n",
       "1731715                  NaN                 NaN          False  \n",
       "1731716    PASSENGER VEHICLE                 NaN          False  \n",
       "1731717                  NaN                 NaN          False  \n",
       "1731720                  NaN                 NaN          False  \n",
       "1731721                  NaN                 NaN          False  \n",
       "\n",
       "[139029 rows x 30 columns]"
      ]
     },
     "execution_count": 25,
     "metadata": {},
     "output_type": "execute_result"
    }
   ],
   "source": [
    "night_crash_data"
   ]
  },
  {
   "cell_type": "code",
   "execution_count": 26,
   "metadata": {},
   "outputs": [],
   "source": [
    "unsafe_speed_metrics = night_crash_data['hasUnsafeSpeed'].value_counts().to_frame()"
   ]
  },
  {
   "cell_type": "code",
   "execution_count": null,
   "metadata": {},
   "outputs": [],
   "source": []
  },
  {
   "cell_type": "code",
   "execution_count": 27,
   "metadata": {},
   "outputs": [],
   "source": [
    "percentage_unsafe_speed_collisions = unsafe_speed_metrics.iloc[1]*100/night_crash_data.shape[0]"
   ]
  },
  {
   "cell_type": "code",
   "execution_count": 28,
   "metadata": {},
   "outputs": [
    {
     "data": {
      "text/plain": [
       "hasUnsafeSpeed    2.687928\n",
       "Name: True, dtype: float64"
      ]
     },
     "execution_count": 28,
     "metadata": {},
     "output_type": "execute_result"
    }
   ],
   "source": [
    "percentage_unsafe_speed_collisions"
   ]
  },
  {
   "cell_type": "code",
   "execution_count": null,
   "metadata": {},
   "outputs": [],
   "source": []
  },
  {
   "cell_type": "code",
   "execution_count": null,
   "metadata": {},
   "outputs": [],
   "source": []
  },
  {
   "cell_type": "code",
   "execution_count": 29,
   "metadata": {},
   "outputs": [],
   "source": [
    "unwanted_contributing_factors = ['1','80','Unspecified']"
   ]
  },
  {
   "cell_type": "code",
   "execution_count": 30,
   "metadata": {},
   "outputs": [],
   "source": [
    "night_crash_data['isUnspecified'] = np.where((((night_crash_data['CONTRIBUTING FACTOR VEHICLE 1'].isin(unwanted_contributing_factors)) | (night_crash_data['CONTRIBUTING FACTOR VEHICLE 1'].isnull())) & ((night_crash_data['CONTRIBUTING FACTOR VEHICLE 2'].isin(unwanted_contributing_factors)) | (night_crash_data['CONTRIBUTING FACTOR VEHICLE 2'].isnull())) & ((night_crash_data['CONTRIBUTING FACTOR VEHICLE 3'].isin(unwanted_contributing_factors))  | (night_crash_data['CONTRIBUTING FACTOR VEHICLE 3'].isnull())) & ((night_crash_data['CONTRIBUTING FACTOR VEHICLE 4'].isin(unwanted_contributing_factors))  | (night_crash_data['CONTRIBUTING FACTOR VEHICLE 4'].isnull())) & ((night_crash_data['CONTRIBUTING FACTOR VEHICLE 5'].isin(unwanted_contributing_factors))  | (night_crash_data['CONTRIBUTING FACTOR VEHICLE 5'].isnull()))), True, False)"
   ]
  },
  {
   "cell_type": "code",
   "execution_count": 31,
   "metadata": {},
   "outputs": [],
   "source": [
    "invalid_night_crash_data_metrics = night_crash_data['isUnspecified'].value_counts().to_frame()"
   ]
  },
  {
   "cell_type": "code",
   "execution_count": 32,
   "metadata": {},
   "outputs": [],
   "source": [
    "percentage_invalid_collision_data = invalid_night_crash_data_metrics.iloc[1]*100/night_crash_data.shape[0]"
   ]
  },
  {
   "cell_type": "code",
   "execution_count": 33,
   "metadata": {},
   "outputs": [
    {
     "data": {
      "text/plain": [
       "isUnspecified    34.79346\n",
       "Name: True, dtype: float64"
      ]
     },
     "execution_count": 33,
     "metadata": {},
     "output_type": "execute_result"
    }
   ],
   "source": [
    "percentage_invalid_collision_data"
   ]
  },
  {
   "cell_type": "code",
   "execution_count": null,
   "metadata": {},
   "outputs": [],
   "source": []
  },
  {
   "cell_type": "code",
   "execution_count": null,
   "metadata": {},
   "outputs": [],
   "source": []
  },
  {
   "cell_type": "code",
   "execution_count": null,
   "metadata": {},
   "outputs": [],
   "source": []
  },
  {
   "cell_type": "code",
   "execution_count": null,
   "metadata": {},
   "outputs": [],
   "source": []
  },
  {
   "cell_type": "markdown",
   "metadata": {},
   "source": [
    "## Hypothesis:\n",
    "\n",
    "#### Of all crashes, a majority number is caused by persons between the age of 16-25."
   ]
  },
  {
   "cell_type": "code",
   "execution_count": 34,
   "metadata": {
    "scrolled": true
   },
   "outputs": [
    {
     "data": {
      "text/plain": [
       "(4117932, 49)"
      ]
     },
     "execution_count": 34,
     "metadata": {},
     "output_type": "execute_result"
    }
   ],
   "source": [
    "crashes_persons = pd.merge(crashes, persons, left_on='COLLISION_ID', right_on='COLLISION_ID', how='inner')\n",
    "crashes_persons.shape"
   ]
  },
  {
   "cell_type": "code",
   "execution_count": 35,
   "metadata": {},
   "outputs": [],
   "source": [
    "crashes_persons.loc[:, 'CRASH_YEAR'] = crashes_persons['CRASH_DATE'].astype(np.str_).apply(lambda x: x.split('/')[-1])"
   ]
  },
  {
   "cell_type": "code",
   "execution_count": 36,
   "metadata": {},
   "outputs": [],
   "source": [
    "del crashes_persons['CRASH_DATE']\n",
    "del crashes_persons['CRASH_TIME']\n",
    "del crashes_persons['UNIQUE_ID']"
   ]
  },
  {
   "cell_type": "code",
   "execution_count": 37,
   "metadata": {},
   "outputs": [
    {
     "data": {
      "text/plain": [
       "Index(['CRASH DATE', 'CRASH TIME', 'BOROUGH', 'ZIP CODE', 'LATITUDE',\n",
       "       'LONGITUDE', 'LOCATION', 'ON STREET NAME', 'CROSS STREET NAME',\n",
       "       'OFF STREET NAME', 'NUMBER OF PERSONS INJURED',\n",
       "       'NUMBER OF PERSONS KILLED', 'NUMBER OF PEDESTRIANS INJURED',\n",
       "       'NUMBER OF PEDESTRIANS KILLED', 'NUMBER OF CYCLIST INJURED',\n",
       "       'NUMBER OF CYCLIST KILLED', 'NUMBER OF MOTORIST INJURED',\n",
       "       'NUMBER OF MOTORIST KILLED', 'CONTRIBUTING FACTOR VEHICLE 1',\n",
       "       'CONTRIBUTING FACTOR VEHICLE 2', 'CONTRIBUTING FACTOR VEHICLE 3',\n",
       "       'CONTRIBUTING FACTOR VEHICLE 4', 'CONTRIBUTING FACTOR VEHICLE 5',\n",
       "       'COLLISION_ID', 'VEHICLE TYPE CODE 1', 'VEHICLE TYPE CODE 2',\n",
       "       'VEHICLE TYPE CODE 3', 'VEHICLE TYPE CODE 4', 'VEHICLE TYPE CODE 5',\n",
       "       'PERSON_ID', 'PERSON_TYPE', 'PERSON_INJURY', 'VEHICLE_ID', 'PERSON_AGE',\n",
       "       'EJECTION', 'EMOTIONAL_STATUS', 'BODILY_INJURY', 'POSITION_IN_VEHICLE',\n",
       "       'SAFETY_EQUIPMENT', 'PED_LOCATION', 'PED_ACTION', 'COMPLAINT',\n",
       "       'PED_ROLE', 'CONTRIBUTING_FACTOR_1', 'CONTRIBUTING_FACTOR_2',\n",
       "       'PERSON_SEX', 'CRASH_YEAR'],\n",
       "      dtype='object')"
      ]
     },
     "execution_count": 37,
     "metadata": {},
     "output_type": "execute_result"
    }
   ],
   "source": [
    "crashes_persons.columns"
   ]
  },
  {
   "cell_type": "code",
   "execution_count": 38,
   "metadata": {},
   "outputs": [
    {
     "data": {
      "text/plain": [
       "array(['Occupant', 'Pedestrian', 'Bicyclist'], dtype=object)"
      ]
     },
     "execution_count": 38,
     "metadata": {},
     "output_type": "execute_result"
    }
   ],
   "source": [
    "crashes_persons['PERSON_TYPE'].unique()"
   ]
  },
  {
   "cell_type": "code",
   "execution_count": 39,
   "metadata": {},
   "outputs": [
    {
     "data": {
      "text/html": [
       "<div>\n",
       "<style scoped>\n",
       "    .dataframe tbody tr th:only-of-type {\n",
       "        vertical-align: middle;\n",
       "    }\n",
       "\n",
       "    .dataframe tbody tr th {\n",
       "        vertical-align: top;\n",
       "    }\n",
       "\n",
       "    .dataframe thead th {\n",
       "        text-align: right;\n",
       "    }\n",
       "</style>\n",
       "<table border=\"1\" class=\"dataframe\">\n",
       "  <thead>\n",
       "    <tr style=\"text-align: right;\">\n",
       "      <th></th>\n",
       "      <th>COLLISION_ID</th>\n",
       "      <th>PERSON_TYPE</th>\n",
       "      <th>POSITION_IN_VEHICLE</th>\n",
       "    </tr>\n",
       "  </thead>\n",
       "  <tbody>\n",
       "    <tr>\n",
       "      <th>2</th>\n",
       "      <td>3916262</td>\n",
       "      <td>Pedestrian</td>\n",
       "      <td>NaN</td>\n",
       "    </tr>\n",
       "    <tr>\n",
       "      <th>13</th>\n",
       "      <td>3929617</td>\n",
       "      <td>Pedestrian</td>\n",
       "      <td>NaN</td>\n",
       "    </tr>\n",
       "    <tr>\n",
       "      <th>30</th>\n",
       "      <td>3920134</td>\n",
       "      <td>Occupant</td>\n",
       "      <td>NaN</td>\n",
       "    </tr>\n",
       "    <tr>\n",
       "      <th>59</th>\n",
       "      <td>3926636</td>\n",
       "      <td>Occupant</td>\n",
       "      <td>NaN</td>\n",
       "    </tr>\n",
       "    <tr>\n",
       "      <th>61</th>\n",
       "      <td>3916004</td>\n",
       "      <td>Pedestrian</td>\n",
       "      <td>NaN</td>\n",
       "    </tr>\n",
       "    <tr>\n",
       "      <th>...</th>\n",
       "      <td>...</td>\n",
       "      <td>...</td>\n",
       "      <td>...</td>\n",
       "    </tr>\n",
       "    <tr>\n",
       "      <th>4117897</th>\n",
       "      <td>26084</td>\n",
       "      <td>Pedestrian</td>\n",
       "      <td>NaN</td>\n",
       "    </tr>\n",
       "    <tr>\n",
       "      <th>4117898</th>\n",
       "      <td>187677</td>\n",
       "      <td>Pedestrian</td>\n",
       "      <td>NaN</td>\n",
       "    </tr>\n",
       "    <tr>\n",
       "      <th>4117914</th>\n",
       "      <td>208724</td>\n",
       "      <td>Pedestrian</td>\n",
       "      <td>NaN</td>\n",
       "    </tr>\n",
       "    <tr>\n",
       "      <th>4117920</th>\n",
       "      <td>32046</td>\n",
       "      <td>Pedestrian</td>\n",
       "      <td>NaN</td>\n",
       "    </tr>\n",
       "    <tr>\n",
       "      <th>4117931</th>\n",
       "      <td>13866</td>\n",
       "      <td>Pedestrian</td>\n",
       "      <td>NaN</td>\n",
       "    </tr>\n",
       "  </tbody>\n",
       "</table>\n",
       "<p>161166 rows × 3 columns</p>\n",
       "</div>"
      ],
      "text/plain": [
       "         COLLISION_ID PERSON_TYPE POSITION_IN_VEHICLE\n",
       "2             3916262  Pedestrian                 NaN\n",
       "13            3929617  Pedestrian                 NaN\n",
       "30            3920134    Occupant                 NaN\n",
       "59            3926636    Occupant                 NaN\n",
       "61            3916004  Pedestrian                 NaN\n",
       "...               ...         ...                 ...\n",
       "4117897         26084  Pedestrian                 NaN\n",
       "4117898        187677  Pedestrian                 NaN\n",
       "4117914        208724  Pedestrian                 NaN\n",
       "4117920         32046  Pedestrian                 NaN\n",
       "4117931         13866  Pedestrian                 NaN\n",
       "\n",
       "[161166 rows x 3 columns]"
      ]
     },
     "execution_count": 39,
     "metadata": {},
     "output_type": "execute_result"
    }
   ],
   "source": [
    "crashes_persons[(crashes_persons['VEHICLE_ID'].isna())][['COLLISION_ID', 'PERSON_TYPE', 'POSITION_IN_VEHICLE']]"
   ]
  },
  {
   "cell_type": "code",
   "execution_count": 40,
   "metadata": {},
   "outputs": [
    {
     "data": {
      "text/html": [
       "<div>\n",
       "<style scoped>\n",
       "    .dataframe tbody tr th:only-of-type {\n",
       "        vertical-align: middle;\n",
       "    }\n",
       "\n",
       "    .dataframe tbody tr th {\n",
       "        vertical-align: top;\n",
       "    }\n",
       "\n",
       "    .dataframe thead th {\n",
       "        text-align: right;\n",
       "    }\n",
       "</style>\n",
       "<table border=\"1\" class=\"dataframe\">\n",
       "  <thead>\n",
       "    <tr style=\"text-align: right;\">\n",
       "      <th></th>\n",
       "      <th>COLLISION_ID</th>\n",
       "      <th>PERSON_TYPE</th>\n",
       "      <th>POSITION_IN_VEHICLE</th>\n",
       "    </tr>\n",
       "  </thead>\n",
       "  <tbody>\n",
       "  </tbody>\n",
       "</table>\n",
       "</div>"
      ],
      "text/plain": [
       "Empty DataFrame\n",
       "Columns: [COLLISION_ID, PERSON_TYPE, POSITION_IN_VEHICLE]\n",
       "Index: []"
      ]
     },
     "execution_count": 40,
     "metadata": {},
     "output_type": "execute_result"
    }
   ],
   "source": [
    "crashes_persons[(crashes_persons['VEHICLE_ID'].isna()) & \n",
    "                (crashes_persons['PERSON_TYPE'] == 'Bicyclist')][['COLLISION_ID', 'PERSON_TYPE', 'POSITION_IN_VEHICLE']]"
   ]
  },
  {
   "cell_type": "code",
   "execution_count": 41,
   "metadata": {},
   "outputs": [
    {
     "data": {
      "text/plain": [
       "(3956766, 47)"
      ]
     },
     "execution_count": 41,
     "metadata": {},
     "output_type": "execute_result"
    }
   ],
   "source": [
    "crashes_persons.drop(crashes_persons.loc[crashes_persons['VEHICLE_ID'].isna()].index, inplace=True)\n",
    "crashes_persons.shape"
   ]
  },
  {
   "cell_type": "code",
   "execution_count": 42,
   "metadata": {},
   "outputs": [],
   "source": [
    "data_subset = crashes_persons[crashes_persons['POSITION_IN_VEHICLE'] == 'Driver'][['COLLISION_ID', 'VEHICLE_ID', 'PERSON_TYPE', 'POSITION_IN_VEHICLE', 'PERSON_AGE']]"
   ]
  },
  {
   "cell_type": "code",
   "execution_count": 43,
   "metadata": {},
   "outputs": [
    {
     "data": {
      "text/html": [
       "<div>\n",
       "<style scoped>\n",
       "    .dataframe tbody tr th:only-of-type {\n",
       "        vertical-align: middle;\n",
       "    }\n",
       "\n",
       "    .dataframe tbody tr th {\n",
       "        vertical-align: top;\n",
       "    }\n",
       "\n",
       "    .dataframe thead th {\n",
       "        text-align: right;\n",
       "    }\n",
       "</style>\n",
       "<table border=\"1\" class=\"dataframe\">\n",
       "  <thead>\n",
       "    <tr style=\"text-align: right;\">\n",
       "      <th></th>\n",
       "      <th>COLLISION_ID</th>\n",
       "      <th>VEHICLE_ID</th>\n",
       "      <th>PERSON_TYPE</th>\n",
       "      <th>POSITION_IN_VEHICLE</th>\n",
       "      <th>PERSON_AGE</th>\n",
       "    </tr>\n",
       "  </thead>\n",
       "  <tbody>\n",
       "    <tr>\n",
       "      <th>1</th>\n",
       "      <td>3916262</td>\n",
       "      <td>18655232.0</td>\n",
       "      <td>Occupant</td>\n",
       "      <td>Driver</td>\n",
       "      <td>57.0</td>\n",
       "    </tr>\n",
       "    <tr>\n",
       "      <th>5</th>\n",
       "      <td>3928600</td>\n",
       "      <td>18762804.0</td>\n",
       "      <td>Occupant</td>\n",
       "      <td>Driver</td>\n",
       "      <td>38.0</td>\n",
       "    </tr>\n",
       "    <tr>\n",
       "      <th>6</th>\n",
       "      <td>3928600</td>\n",
       "      <td>18762803.0</td>\n",
       "      <td>Occupant</td>\n",
       "      <td>Driver</td>\n",
       "      <td>39.0</td>\n",
       "    </tr>\n",
       "    <tr>\n",
       "      <th>8</th>\n",
       "      <td>3921967</td>\n",
       "      <td>18643741.0</td>\n",
       "      <td>Occupant</td>\n",
       "      <td>Driver</td>\n",
       "      <td>43.0</td>\n",
       "    </tr>\n",
       "    <tr>\n",
       "      <th>9</th>\n",
       "      <td>3921967</td>\n",
       "      <td>18643742.0</td>\n",
       "      <td>Occupant</td>\n",
       "      <td>Driver</td>\n",
       "      <td>83.0</td>\n",
       "    </tr>\n",
       "    <tr>\n",
       "      <th>...</th>\n",
       "      <td>...</td>\n",
       "      <td>...</td>\n",
       "      <td>...</td>\n",
       "      <td>...</td>\n",
       "      <td>...</td>\n",
       "    </tr>\n",
       "    <tr>\n",
       "      <th>4112338</th>\n",
       "      <td>4252952</td>\n",
       "      <td>19666652.0</td>\n",
       "      <td>Occupant</td>\n",
       "      <td>Driver</td>\n",
       "      <td>32.0</td>\n",
       "    </tr>\n",
       "    <tr>\n",
       "      <th>4112837</th>\n",
       "      <td>3497539</td>\n",
       "      <td>17299497.0</td>\n",
       "      <td>Occupant</td>\n",
       "      <td>Driver</td>\n",
       "      <td>19.0</td>\n",
       "    </tr>\n",
       "    <tr>\n",
       "      <th>4113965</th>\n",
       "      <td>3721654</td>\n",
       "      <td>17625363.0</td>\n",
       "      <td>Occupant</td>\n",
       "      <td>Driver</td>\n",
       "      <td>58.0</td>\n",
       "    </tr>\n",
       "    <tr>\n",
       "      <th>4115185</th>\n",
       "      <td>3943425</td>\n",
       "      <td>18606945.0</td>\n",
       "      <td>Occupant</td>\n",
       "      <td>Driver</td>\n",
       "      <td>39.0</td>\n",
       "    </tr>\n",
       "    <tr>\n",
       "      <th>4115186</th>\n",
       "      <td>3943425</td>\n",
       "      <td>18606944.0</td>\n",
       "      <td>Occupant</td>\n",
       "      <td>Driver</td>\n",
       "      <td>17.0</td>\n",
       "    </tr>\n",
       "  </tbody>\n",
       "</table>\n",
       "<p>1473544 rows × 5 columns</p>\n",
       "</div>"
      ],
      "text/plain": [
       "         COLLISION_ID  VEHICLE_ID PERSON_TYPE POSITION_IN_VEHICLE  PERSON_AGE\n",
       "1             3916262  18655232.0    Occupant              Driver        57.0\n",
       "5             3928600  18762804.0    Occupant              Driver        38.0\n",
       "6             3928600  18762803.0    Occupant              Driver        39.0\n",
       "8             3921967  18643741.0    Occupant              Driver        43.0\n",
       "9             3921967  18643742.0    Occupant              Driver        83.0\n",
       "...               ...         ...         ...                 ...         ...\n",
       "4112338       4252952  19666652.0    Occupant              Driver        32.0\n",
       "4112837       3497539  17299497.0    Occupant              Driver        19.0\n",
       "4113965       3721654  17625363.0    Occupant              Driver        58.0\n",
       "4115185       3943425  18606945.0    Occupant              Driver        39.0\n",
       "4115186       3943425  18606944.0    Occupant              Driver        17.0\n",
       "\n",
       "[1473544 rows x 5 columns]"
      ]
     },
     "execution_count": 43,
     "metadata": {},
     "output_type": "execute_result"
    }
   ],
   "source": [
    "data_subset"
   ]
  },
  {
   "cell_type": "code",
   "execution_count": 44,
   "metadata": {},
   "outputs": [],
   "source": [
    "data_subset.loc[:, 'age16-25'] = np.where((data_subset['PERSON_AGE'] > 15) & \n",
    "                                          (data_subset['PERSON_AGE'] < 26), True, False)"
   ]
  },
  {
   "cell_type": "code",
   "execution_count": 45,
   "metadata": {},
   "outputs": [
    {
     "data": {
      "text/plain": [
       "False    1266515\n",
       "True      207029\n",
       "Name: age16-25, dtype: int64"
      ]
     },
     "execution_count": 45,
     "metadata": {},
     "output_type": "execute_result"
    }
   ],
   "source": [
    "data_subset['age16-25'].value_counts()"
   ]
  },
  {
   "cell_type": "code",
   "execution_count": null,
   "metadata": {},
   "outputs": [],
   "source": []
  },
  {
   "cell_type": "code",
   "execution_count": null,
   "metadata": {},
   "outputs": [],
   "source": []
  },
  {
   "cell_type": "markdown",
   "metadata": {},
   "source": [
    "## Hypothesis\n",
    "\n",
    "#### The number of collisions increased with an increase in population"
   ]
  },
  {
   "cell_type": "markdown",
   "metadata": {},
   "source": [
    "Source - https://worldpopulationreview.com/us-cities/new-york-city-ny-population"
   ]
  },
  {
   "cell_type": "code",
   "execution_count": 69,
   "metadata": {},
   "outputs": [
    {
     "data": {
      "text/html": [
       "<div>\n",
       "<style scoped>\n",
       "    .dataframe tbody tr th:only-of-type {\n",
       "        vertical-align: middle;\n",
       "    }\n",
       "\n",
       "    .dataframe tbody tr th {\n",
       "        vertical-align: top;\n",
       "    }\n",
       "\n",
       "    .dataframe thead th {\n",
       "        text-align: right;\n",
       "    }\n",
       "</style>\n",
       "<table border=\"1\" class=\"dataframe\">\n",
       "  <thead>\n",
       "    <tr style=\"text-align: right;\">\n",
       "      <th></th>\n",
       "      <th>Year</th>\n",
       "      <th>Population</th>\n",
       "    </tr>\n",
       "  </thead>\n",
       "  <tbody>\n",
       "    <tr>\n",
       "      <th>0</th>\n",
       "      <td>2012</td>\n",
       "      <td>8348030</td>\n",
       "    </tr>\n",
       "    <tr>\n",
       "      <th>1</th>\n",
       "      <td>2013</td>\n",
       "      <td>8398740</td>\n",
       "    </tr>\n",
       "    <tr>\n",
       "      <th>2</th>\n",
       "      <td>2014</td>\n",
       "      <td>8437390</td>\n",
       "    </tr>\n",
       "    <tr>\n",
       "      <th>3</th>\n",
       "      <td>2015</td>\n",
       "      <td>8468180</td>\n",
       "    </tr>\n",
       "    <tr>\n",
       "      <th>4</th>\n",
       "      <td>2016</td>\n",
       "      <td>8475980</td>\n",
       "    </tr>\n",
       "    <tr>\n",
       "      <th>5</th>\n",
       "      <td>2017</td>\n",
       "      <td>8438270</td>\n",
       "    </tr>\n",
       "    <tr>\n",
       "      <th>6</th>\n",
       "      <td>2018</td>\n",
       "      <td>8398750</td>\n",
       "    </tr>\n",
       "    <tr>\n",
       "      <th>7</th>\n",
       "      <td>2019</td>\n",
       "      <td>8361040</td>\n",
       "    </tr>\n",
       "    <tr>\n",
       "      <th>8</th>\n",
       "      <td>2020</td>\n",
       "      <td>8323340</td>\n",
       "    </tr>\n",
       "  </tbody>\n",
       "</table>\n",
       "</div>"
      ],
      "text/plain": [
       "   Year  Population\n",
       "0  2012     8348030\n",
       "1  2013     8398740\n",
       "2  2014     8437390\n",
       "3  2015     8468180\n",
       "4  2016     8475980\n",
       "5  2017     8438270\n",
       "6  2018     8398750\n",
       "7  2019     8361040\n",
       "8  2020     8323340"
      ]
     },
     "execution_count": 69,
     "metadata": {},
     "output_type": "execute_result"
    }
   ],
   "source": [
    "NYC_Population_data = {'Year':  [2012,2013,2014,2015,2016,2017,2018,2019,2020],\n",
    "        'Population': [8348030,8398740,8437390,8468180,8475980,8438270, 8398750, 8361040, 8323340],\n",
    "        }\n",
    "\n",
    "NYC_Population = pd.DataFrame (NYC_Population_data, columns = ['Year','Population'])\n",
    "NYC_Population"
   ]
  },
  {
   "cell_type": "code",
   "execution_count": 70,
   "metadata": {},
   "outputs": [],
   "source": [
    "NYC_area = 300.4 #(in sq miles) Source - https://worldpopulationreview.com/us-cities/new-york-city-ny-population"
   ]
  },
  {
   "cell_type": "code",
   "execution_count": 71,
   "metadata": {},
   "outputs": [],
   "source": [
    "NYC_Population['Population_Density'] = NYC_Population['Population'].apply(lambda x: x/NYC_area)"
   ]
  },
  {
   "cell_type": "code",
   "execution_count": 72,
   "metadata": {},
   "outputs": [
    {
     "data": {
      "text/html": [
       "<div>\n",
       "<style scoped>\n",
       "    .dataframe tbody tr th:only-of-type {\n",
       "        vertical-align: middle;\n",
       "    }\n",
       "\n",
       "    .dataframe tbody tr th {\n",
       "        vertical-align: top;\n",
       "    }\n",
       "\n",
       "    .dataframe thead th {\n",
       "        text-align: right;\n",
       "    }\n",
       "</style>\n",
       "<table border=\"1\" class=\"dataframe\">\n",
       "  <thead>\n",
       "    <tr style=\"text-align: right;\">\n",
       "      <th></th>\n",
       "      <th>Year</th>\n",
       "      <th>Population</th>\n",
       "      <th>Population_Density</th>\n",
       "    </tr>\n",
       "  </thead>\n",
       "  <tbody>\n",
       "    <tr>\n",
       "      <th>0</th>\n",
       "      <td>2012</td>\n",
       "      <td>8348030</td>\n",
       "      <td>27789.713715</td>\n",
       "    </tr>\n",
       "    <tr>\n",
       "      <th>1</th>\n",
       "      <td>2013</td>\n",
       "      <td>8398740</td>\n",
       "      <td>27958.521971</td>\n",
       "    </tr>\n",
       "    <tr>\n",
       "      <th>2</th>\n",
       "      <td>2014</td>\n",
       "      <td>8437390</td>\n",
       "      <td>28087.183755</td>\n",
       "    </tr>\n",
       "    <tr>\n",
       "      <th>3</th>\n",
       "      <td>2015</td>\n",
       "      <td>8468180</td>\n",
       "      <td>28189.680426</td>\n",
       "    </tr>\n",
       "    <tr>\n",
       "      <th>4</th>\n",
       "      <td>2016</td>\n",
       "      <td>8475980</td>\n",
       "      <td>28215.645806</td>\n",
       "    </tr>\n",
       "    <tr>\n",
       "      <th>5</th>\n",
       "      <td>2017</td>\n",
       "      <td>8438270</td>\n",
       "      <td>28090.113182</td>\n",
       "    </tr>\n",
       "    <tr>\n",
       "      <th>6</th>\n",
       "      <td>2018</td>\n",
       "      <td>8398750</td>\n",
       "      <td>27958.555260</td>\n",
       "    </tr>\n",
       "    <tr>\n",
       "      <th>7</th>\n",
       "      <td>2019</td>\n",
       "      <td>8361040</td>\n",
       "      <td>27833.022636</td>\n",
       "    </tr>\n",
       "    <tr>\n",
       "      <th>8</th>\n",
       "      <td>2020</td>\n",
       "      <td>8323340</td>\n",
       "      <td>27707.523302</td>\n",
       "    </tr>\n",
       "  </tbody>\n",
       "</table>\n",
       "</div>"
      ],
      "text/plain": [
       "   Year  Population  Population_Density\n",
       "0  2012     8348030        27789.713715\n",
       "1  2013     8398740        27958.521971\n",
       "2  2014     8437390        28087.183755\n",
       "3  2015     8468180        28189.680426\n",
       "4  2016     8475980        28215.645806\n",
       "5  2017     8438270        28090.113182\n",
       "6  2018     8398750        27958.555260\n",
       "7  2019     8361040        27833.022636\n",
       "8  2020     8323340        27707.523302"
      ]
     },
     "execution_count": 72,
     "metadata": {},
     "output_type": "execute_result"
    }
   ],
   "source": [
    "NYC_Population"
   ]
  },
  {
   "cell_type": "code",
   "execution_count": 48,
   "metadata": {},
   "outputs": [
    {
     "data": {
      "text/html": [
       "<div>\n",
       "<style scoped>\n",
       "    .dataframe tbody tr th:only-of-type {\n",
       "        vertical-align: middle;\n",
       "    }\n",
       "\n",
       "    .dataframe tbody tr th {\n",
       "        vertical-align: top;\n",
       "    }\n",
       "\n",
       "    .dataframe thead th {\n",
       "        text-align: right;\n",
       "    }\n",
       "</style>\n",
       "<table border=\"1\" class=\"dataframe\">\n",
       "  <thead>\n",
       "    <tr style=\"text-align: right;\">\n",
       "      <th></th>\n",
       "      <th>CRASH DATE</th>\n",
       "      <th>CRASH TIME</th>\n",
       "      <th>BOROUGH</th>\n",
       "      <th>ZIP CODE</th>\n",
       "      <th>LATITUDE</th>\n",
       "      <th>LONGITUDE</th>\n",
       "      <th>LOCATION</th>\n",
       "      <th>ON STREET NAME</th>\n",
       "      <th>CROSS STREET NAME</th>\n",
       "      <th>OFF STREET NAME</th>\n",
       "      <th>...</th>\n",
       "      <th>CONTRIBUTING FACTOR VEHICLE 2</th>\n",
       "      <th>CONTRIBUTING FACTOR VEHICLE 3</th>\n",
       "      <th>CONTRIBUTING FACTOR VEHICLE 4</th>\n",
       "      <th>CONTRIBUTING FACTOR VEHICLE 5</th>\n",
       "      <th>COLLISION_ID</th>\n",
       "      <th>VEHICLE TYPE CODE 1</th>\n",
       "      <th>VEHICLE TYPE CODE 2</th>\n",
       "      <th>VEHICLE TYPE CODE 3</th>\n",
       "      <th>VEHICLE TYPE CODE 4</th>\n",
       "      <th>VEHICLE TYPE CODE 5</th>\n",
       "    </tr>\n",
       "  </thead>\n",
       "  <tbody>\n",
       "    <tr>\n",
       "      <th>0</th>\n",
       "      <td>06/07/2018</td>\n",
       "      <td>21:29:00</td>\n",
       "      <td>BROOKLYN</td>\n",
       "      <td>11235</td>\n",
       "      <td>40.593807</td>\n",
       "      <td>-73.940620</td>\n",
       "      <td>(40.593807, -73.94062)</td>\n",
       "      <td>AVENUE X</td>\n",
       "      <td>NOSTRAND AVENUE</td>\n",
       "      <td>NaN</td>\n",
       "      <td>...</td>\n",
       "      <td>NaN</td>\n",
       "      <td>NaN</td>\n",
       "      <td>NaN</td>\n",
       "      <td>NaN</td>\n",
       "      <td>3916262</td>\n",
       "      <td>Station Wagon/Sport Utility Vehicle</td>\n",
       "      <td>NaN</td>\n",
       "      <td>NaN</td>\n",
       "      <td>NaN</td>\n",
       "      <td>NaN</td>\n",
       "    </tr>\n",
       "    <tr>\n",
       "      <th>1</th>\n",
       "      <td>06/24/2018</td>\n",
       "      <td>20:00:00</td>\n",
       "      <td>QUEENS</td>\n",
       "      <td>11377</td>\n",
       "      <td>40.740160</td>\n",
       "      <td>-73.895250</td>\n",
       "      <td>(40.74016, -73.89525)</td>\n",
       "      <td>QUEENS BOULEVARD</td>\n",
       "      <td>45 AVENUE</td>\n",
       "      <td>NaN</td>\n",
       "      <td>...</td>\n",
       "      <td>Turning Improperly</td>\n",
       "      <td>NaN</td>\n",
       "      <td>NaN</td>\n",
       "      <td>NaN</td>\n",
       "      <td>3928600</td>\n",
       "      <td>Station Wagon/Sport Utility Vehicle</td>\n",
       "      <td>Station Wagon/Sport Utility Vehicle</td>\n",
       "      <td>NaN</td>\n",
       "      <td>NaN</td>\n",
       "      <td>NaN</td>\n",
       "    </tr>\n",
       "    <tr>\n",
       "      <th>2</th>\n",
       "      <td>06/15/2018</td>\n",
       "      <td>23:20:00</td>\n",
       "      <td>NaN</td>\n",
       "      <td>NaN</td>\n",
       "      <td>40.704388</td>\n",
       "      <td>-73.994576</td>\n",
       "      <td>(40.704388, -73.994576)</td>\n",
       "      <td>BROOKLYN BRIDGE</td>\n",
       "      <td>NaN</td>\n",
       "      <td>NaN</td>\n",
       "      <td>...</td>\n",
       "      <td>Unspecified</td>\n",
       "      <td>Unspecified</td>\n",
       "      <td>NaN</td>\n",
       "      <td>NaN</td>\n",
       "      <td>3921967</td>\n",
       "      <td>Sedan</td>\n",
       "      <td>Sedan</td>\n",
       "      <td>Sedan</td>\n",
       "      <td>NaN</td>\n",
       "      <td>NaN</td>\n",
       "    </tr>\n",
       "    <tr>\n",
       "      <th>3</th>\n",
       "      <td>06/26/2018</td>\n",
       "      <td>16:30:00</td>\n",
       "      <td>NaN</td>\n",
       "      <td>NaN</td>\n",
       "      <td>40.726930</td>\n",
       "      <td>-73.996666</td>\n",
       "      <td>(40.72693, -73.996666)</td>\n",
       "      <td>BLEECKER STREET</td>\n",
       "      <td>NaN</td>\n",
       "      <td>NaN</td>\n",
       "      <td>...</td>\n",
       "      <td>NaN</td>\n",
       "      <td>NaN</td>\n",
       "      <td>NaN</td>\n",
       "      <td>NaN</td>\n",
       "      <td>3929617</td>\n",
       "      <td>Bike</td>\n",
       "      <td>NaN</td>\n",
       "      <td>NaN</td>\n",
       "      <td>NaN</td>\n",
       "      <td>NaN</td>\n",
       "    </tr>\n",
       "    <tr>\n",
       "      <th>4</th>\n",
       "      <td>06/07/2018</td>\n",
       "      <td>15:30:00</td>\n",
       "      <td>MANHATTAN</td>\n",
       "      <td>10036</td>\n",
       "      <td>40.756664</td>\n",
       "      <td>-73.988434</td>\n",
       "      <td>(40.756664, -73.988434)</td>\n",
       "      <td>NaN</td>\n",
       "      <td>NaN</td>\n",
       "      <td>253       WEST 42 STREET</td>\n",
       "      <td>...</td>\n",
       "      <td>Unspecified</td>\n",
       "      <td>NaN</td>\n",
       "      <td>NaN</td>\n",
       "      <td>NaN</td>\n",
       "      <td>3917316</td>\n",
       "      <td>Box Truck</td>\n",
       "      <td>Bus</td>\n",
       "      <td>NaN</td>\n",
       "      <td>NaN</td>\n",
       "      <td>NaN</td>\n",
       "    </tr>\n",
       "    <tr>\n",
       "      <th>...</th>\n",
       "      <td>...</td>\n",
       "      <td>...</td>\n",
       "      <td>...</td>\n",
       "      <td>...</td>\n",
       "      <td>...</td>\n",
       "      <td>...</td>\n",
       "      <td>...</td>\n",
       "      <td>...</td>\n",
       "      <td>...</td>\n",
       "      <td>...</td>\n",
       "      <td>...</td>\n",
       "      <td>...</td>\n",
       "      <td>...</td>\n",
       "      <td>...</td>\n",
       "      <td>...</td>\n",
       "      <td>...</td>\n",
       "      <td>...</td>\n",
       "      <td>...</td>\n",
       "      <td>...</td>\n",
       "      <td>...</td>\n",
       "      <td>...</td>\n",
       "    </tr>\n",
       "    <tr>\n",
       "      <th>1731717</th>\n",
       "      <td>07/01/2012</td>\n",
       "      <td>04:00:00</td>\n",
       "      <td>QUEENS</td>\n",
       "      <td>11372</td>\n",
       "      <td>40.747137</td>\n",
       "      <td>-73.892408</td>\n",
       "      <td>(40.7471367, -73.8924084)</td>\n",
       "      <td>BROADWAY</td>\n",
       "      <td>73 STREET</td>\n",
       "      <td>NaN</td>\n",
       "      <td>...</td>\n",
       "      <td>Prescription Medication</td>\n",
       "      <td>NaN</td>\n",
       "      <td>NaN</td>\n",
       "      <td>NaN</td>\n",
       "      <td>279798</td>\n",
       "      <td>PASSENGER VEHICLE</td>\n",
       "      <td>PASSENGER VEHICLE</td>\n",
       "      <td>NaN</td>\n",
       "      <td>NaN</td>\n",
       "      <td>NaN</td>\n",
       "    </tr>\n",
       "    <tr>\n",
       "      <th>1731718</th>\n",
       "      <td>07/01/2012</td>\n",
       "      <td>05:45:00</td>\n",
       "      <td>NaN</td>\n",
       "      <td>NaN</td>\n",
       "      <td>NaN</td>\n",
       "      <td>NaN</td>\n",
       "      <td>NaN</td>\n",
       "      <td>NaN</td>\n",
       "      <td>NaN</td>\n",
       "      <td>NaN</td>\n",
       "      <td>...</td>\n",
       "      <td>Unspecified</td>\n",
       "      <td>NaN</td>\n",
       "      <td>NaN</td>\n",
       "      <td>NaN</td>\n",
       "      <td>2879030</td>\n",
       "      <td>PASSENGER VEHICLE</td>\n",
       "      <td>PICK-UP TRUCK</td>\n",
       "      <td>NaN</td>\n",
       "      <td>NaN</td>\n",
       "      <td>NaN</td>\n",
       "    </tr>\n",
       "    <tr>\n",
       "      <th>1731719</th>\n",
       "      <td>07/01/2012</td>\n",
       "      <td>06:55:00</td>\n",
       "      <td>QUEENS</td>\n",
       "      <td>11385</td>\n",
       "      <td>40.708991</td>\n",
       "      <td>-73.909700</td>\n",
       "      <td>(40.7089912, -73.9097003)</td>\n",
       "      <td>HARMAN STREET</td>\n",
       "      <td>FAIRVIEW AVENUE</td>\n",
       "      <td>NaN</td>\n",
       "      <td>...</td>\n",
       "      <td>Unspecified</td>\n",
       "      <td>NaN</td>\n",
       "      <td>NaN</td>\n",
       "      <td>NaN</td>\n",
       "      <td>213209</td>\n",
       "      <td>PASSENGER VEHICLE</td>\n",
       "      <td>UNKNOWN</td>\n",
       "      <td>NaN</td>\n",
       "      <td>NaN</td>\n",
       "      <td>NaN</td>\n",
       "    </tr>\n",
       "    <tr>\n",
       "      <th>1731720</th>\n",
       "      <td>07/01/2012</td>\n",
       "      <td>03:30:00</td>\n",
       "      <td>BROOKLYN</td>\n",
       "      <td>11234</td>\n",
       "      <td>40.616509</td>\n",
       "      <td>-73.933919</td>\n",
       "      <td>(40.6165086, -73.9339188)</td>\n",
       "      <td>KIMBALL STREET</td>\n",
       "      <td>QUENTIN ROAD</td>\n",
       "      <td>NaN</td>\n",
       "      <td>...</td>\n",
       "      <td>Other Vehicular</td>\n",
       "      <td>NaN</td>\n",
       "      <td>NaN</td>\n",
       "      <td>NaN</td>\n",
       "      <td>125661</td>\n",
       "      <td>PASSENGER VEHICLE</td>\n",
       "      <td>AMBULANCE</td>\n",
       "      <td>NaN</td>\n",
       "      <td>NaN</td>\n",
       "      <td>NaN</td>\n",
       "    </tr>\n",
       "    <tr>\n",
       "      <th>1731721</th>\n",
       "      <td>07/01/2012</td>\n",
       "      <td>04:50:00</td>\n",
       "      <td>MANHATTAN</td>\n",
       "      <td>10009</td>\n",
       "      <td>40.723506</td>\n",
       "      <td>-73.979281</td>\n",
       "      <td>(40.7235061, -73.9792808)</td>\n",
       "      <td>EAST 6 STREET</td>\n",
       "      <td>AVENUE C</td>\n",
       "      <td>NaN</td>\n",
       "      <td>...</td>\n",
       "      <td>NaN</td>\n",
       "      <td>NaN</td>\n",
       "      <td>NaN</td>\n",
       "      <td>NaN</td>\n",
       "      <td>13866</td>\n",
       "      <td>PASSENGER VEHICLE</td>\n",
       "      <td>NaN</td>\n",
       "      <td>NaN</td>\n",
       "      <td>NaN</td>\n",
       "      <td>NaN</td>\n",
       "    </tr>\n",
       "  </tbody>\n",
       "</table>\n",
       "<p>1731722 rows × 29 columns</p>\n",
       "</div>"
      ],
      "text/plain": [
       "         CRASH DATE CRASH TIME    BOROUGH ZIP CODE   LATITUDE  LONGITUDE  \\\n",
       "0        06/07/2018   21:29:00   BROOKLYN    11235  40.593807 -73.940620   \n",
       "1        06/24/2018   20:00:00     QUEENS    11377  40.740160 -73.895250   \n",
       "2        06/15/2018   23:20:00        NaN      NaN  40.704388 -73.994576   \n",
       "3        06/26/2018   16:30:00        NaN      NaN  40.726930 -73.996666   \n",
       "4        06/07/2018   15:30:00  MANHATTAN    10036  40.756664 -73.988434   \n",
       "...             ...        ...        ...      ...        ...        ...   \n",
       "1731717  07/01/2012   04:00:00     QUEENS    11372  40.747137 -73.892408   \n",
       "1731718  07/01/2012   05:45:00        NaN      NaN        NaN        NaN   \n",
       "1731719  07/01/2012   06:55:00     QUEENS    11385  40.708991 -73.909700   \n",
       "1731720  07/01/2012   03:30:00   BROOKLYN    11234  40.616509 -73.933919   \n",
       "1731721  07/01/2012   04:50:00  MANHATTAN    10009  40.723506 -73.979281   \n",
       "\n",
       "                          LOCATION                    ON STREET NAME  \\\n",
       "0           (40.593807, -73.94062)  AVENUE X                           \n",
       "1            (40.74016, -73.89525)  QUEENS BOULEVARD                   \n",
       "2          (40.704388, -73.994576)  BROOKLYN BRIDGE                    \n",
       "3           (40.72693, -73.996666)  BLEECKER STREET                    \n",
       "4          (40.756664, -73.988434)                               NaN   \n",
       "...                            ...                               ...   \n",
       "1731717  (40.7471367, -73.8924084)  BROADWAY                           \n",
       "1731718                        NaN                               NaN   \n",
       "1731719  (40.7089912, -73.9097003)  HARMAN STREET                      \n",
       "1731720  (40.6165086, -73.9339188)  KIMBALL STREET                     \n",
       "1731721  (40.7235061, -73.9792808)  EAST 6 STREET                      \n",
       "\n",
       "                        CROSS STREET NAME  \\\n",
       "0                         NOSTRAND AVENUE   \n",
       "1                               45 AVENUE   \n",
       "2                                     NaN   \n",
       "3                                     NaN   \n",
       "4                                     NaN   \n",
       "...                                   ...   \n",
       "1731717  73 STREET                          \n",
       "1731718                               NaN   \n",
       "1731719  FAIRVIEW AVENUE                    \n",
       "1731720  QUENTIN ROAD                       \n",
       "1731721  AVENUE C                           \n",
       "\n",
       "                                  OFF STREET NAME  ...  \\\n",
       "0                                             NaN  ...   \n",
       "1                                             NaN  ...   \n",
       "2                                             NaN  ...   \n",
       "3                                             NaN  ...   \n",
       "4        253       WEST 42 STREET                  ...   \n",
       "...                                           ...  ...   \n",
       "1731717                                       NaN  ...   \n",
       "1731718                                       NaN  ...   \n",
       "1731719                                       NaN  ...   \n",
       "1731720                                       NaN  ...   \n",
       "1731721                                       NaN  ...   \n",
       "\n",
       "         CONTRIBUTING FACTOR VEHICLE 2  CONTRIBUTING FACTOR VEHICLE 3  \\\n",
       "0                                  NaN                            NaN   \n",
       "1                   Turning Improperly                            NaN   \n",
       "2                          Unspecified                    Unspecified   \n",
       "3                                  NaN                            NaN   \n",
       "4                          Unspecified                            NaN   \n",
       "...                                ...                            ...   \n",
       "1731717        Prescription Medication                            NaN   \n",
       "1731718                    Unspecified                            NaN   \n",
       "1731719                    Unspecified                            NaN   \n",
       "1731720                Other Vehicular                            NaN   \n",
       "1731721                            NaN                            NaN   \n",
       "\n",
       "         CONTRIBUTING FACTOR VEHICLE 4  CONTRIBUTING FACTOR VEHICLE 5  \\\n",
       "0                                  NaN                            NaN   \n",
       "1                                  NaN                            NaN   \n",
       "2                                  NaN                            NaN   \n",
       "3                                  NaN                            NaN   \n",
       "4                                  NaN                            NaN   \n",
       "...                                ...                            ...   \n",
       "1731717                            NaN                            NaN   \n",
       "1731718                            NaN                            NaN   \n",
       "1731719                            NaN                            NaN   \n",
       "1731720                            NaN                            NaN   \n",
       "1731721                            NaN                            NaN   \n",
       "\n",
       "         COLLISION_ID                  VEHICLE TYPE CODE 1  \\\n",
       "0             3916262  Station Wagon/Sport Utility Vehicle   \n",
       "1             3928600  Station Wagon/Sport Utility Vehicle   \n",
       "2             3921967                                Sedan   \n",
       "3             3929617                                 Bike   \n",
       "4             3917316                            Box Truck   \n",
       "...               ...                                  ...   \n",
       "1731717        279798                    PASSENGER VEHICLE   \n",
       "1731718       2879030                    PASSENGER VEHICLE   \n",
       "1731719        213209                    PASSENGER VEHICLE   \n",
       "1731720        125661                    PASSENGER VEHICLE   \n",
       "1731721         13866                    PASSENGER VEHICLE   \n",
       "\n",
       "                         VEHICLE TYPE CODE 2  VEHICLE TYPE CODE 3  \\\n",
       "0                                        NaN                  NaN   \n",
       "1        Station Wagon/Sport Utility Vehicle                  NaN   \n",
       "2                                      Sedan                Sedan   \n",
       "3                                        NaN                  NaN   \n",
       "4                                        Bus                  NaN   \n",
       "...                                      ...                  ...   \n",
       "1731717                    PASSENGER VEHICLE                  NaN   \n",
       "1731718                        PICK-UP TRUCK                  NaN   \n",
       "1731719                              UNKNOWN                  NaN   \n",
       "1731720                            AMBULANCE                  NaN   \n",
       "1731721                                  NaN                  NaN   \n",
       "\n",
       "        VEHICLE TYPE CODE 4 VEHICLE TYPE CODE 5  \n",
       "0                       NaN                 NaN  \n",
       "1                       NaN                 NaN  \n",
       "2                       NaN                 NaN  \n",
       "3                       NaN                 NaN  \n",
       "4                       NaN                 NaN  \n",
       "...                     ...                 ...  \n",
       "1731717                 NaN                 NaN  \n",
       "1731718                 NaN                 NaN  \n",
       "1731719                 NaN                 NaN  \n",
       "1731720                 NaN                 NaN  \n",
       "1731721                 NaN                 NaN  \n",
       "\n",
       "[1731722 rows x 29 columns]"
      ]
     },
     "execution_count": 48,
     "metadata": {},
     "output_type": "execute_result"
    }
   ],
   "source": [
    "crashes_data = crashes.copy()\n",
    "crashes_data"
   ]
  },
  {
   "cell_type": "code",
   "execution_count": 49,
   "metadata": {},
   "outputs": [],
   "source": [
    "crashes_data.loc[:, 'CRASH_YEAR'] = crashes_data['CRASH DATE'].astype(np.str_).apply(lambda x: x.split('/')[-1])"
   ]
  },
  {
   "cell_type": "code",
   "execution_count": 51,
   "metadata": {},
   "outputs": [
    {
     "data": {
      "text/plain": [
       "array(['2018', '2017', '2019', '2020', '2012', '2016', '2015', '2014',\n",
       "       '2013'], dtype=object)"
      ]
     },
     "execution_count": 51,
     "metadata": {},
     "output_type": "execute_result"
    }
   ],
   "source": [
    "crashes_data['CRASH_YEAR'].unique()"
   ]
  },
  {
   "cell_type": "code",
   "execution_count": 79,
   "metadata": {},
   "outputs": [],
   "source": [
    "crashes_total = crashes_data.groupby(['CRASH_YEAR'], sort=False).size().reset_index(name='Total_Crashes')"
   ]
  },
  {
   "cell_type": "code",
   "execution_count": 80,
   "metadata": {},
   "outputs": [],
   "source": [
    "crashes_total['CRASH_YEAR'] = crashes_total['CRASH_YEAR'].astype('int64')"
   ]
  },
  {
   "cell_type": "code",
   "execution_count": 81,
   "metadata": {},
   "outputs": [],
   "source": [
    "crashes_population = pd.merge(crashes_total, NYC_Population, left_on='CRASH_YEAR', right_on='Year', how='inner')"
   ]
  },
  {
   "cell_type": "code",
   "execution_count": 82,
   "metadata": {},
   "outputs": [
    {
     "data": {
      "text/html": [
       "<div>\n",
       "<style scoped>\n",
       "    .dataframe tbody tr th:only-of-type {\n",
       "        vertical-align: middle;\n",
       "    }\n",
       "\n",
       "    .dataframe tbody tr th {\n",
       "        vertical-align: top;\n",
       "    }\n",
       "\n",
       "    .dataframe thead th {\n",
       "        text-align: right;\n",
       "    }\n",
       "</style>\n",
       "<table border=\"1\" class=\"dataframe\">\n",
       "  <thead>\n",
       "    <tr style=\"text-align: right;\">\n",
       "      <th></th>\n",
       "      <th>CRASH_YEAR</th>\n",
       "      <th>Total_Crashes</th>\n",
       "      <th>Year</th>\n",
       "      <th>Population</th>\n",
       "      <th>Population_Density</th>\n",
       "    </tr>\n",
       "  </thead>\n",
       "  <tbody>\n",
       "    <tr>\n",
       "      <th>0</th>\n",
       "      <td>2018</td>\n",
       "      <td>231562</td>\n",
       "      <td>2018</td>\n",
       "      <td>8398750</td>\n",
       "      <td>27958.555260</td>\n",
       "    </tr>\n",
       "    <tr>\n",
       "      <th>1</th>\n",
       "      <td>2017</td>\n",
       "      <td>231007</td>\n",
       "      <td>2017</td>\n",
       "      <td>8438270</td>\n",
       "      <td>28090.113182</td>\n",
       "    </tr>\n",
       "    <tr>\n",
       "      <th>2</th>\n",
       "      <td>2019</td>\n",
       "      <td>211481</td>\n",
       "      <td>2019</td>\n",
       "      <td>8361040</td>\n",
       "      <td>27833.022636</td>\n",
       "    </tr>\n",
       "    <tr>\n",
       "      <th>3</th>\n",
       "      <td>2020</td>\n",
       "      <td>99840</td>\n",
       "      <td>2020</td>\n",
       "      <td>8323340</td>\n",
       "      <td>27707.523302</td>\n",
       "    </tr>\n",
       "    <tr>\n",
       "      <th>4</th>\n",
       "      <td>2012</td>\n",
       "      <td>100541</td>\n",
       "      <td>2012</td>\n",
       "      <td>8348030</td>\n",
       "      <td>27789.713715</td>\n",
       "    </tr>\n",
       "    <tr>\n",
       "      <th>5</th>\n",
       "      <td>2016</td>\n",
       "      <td>229830</td>\n",
       "      <td>2016</td>\n",
       "      <td>8475980</td>\n",
       "      <td>28215.645806</td>\n",
       "    </tr>\n",
       "    <tr>\n",
       "      <th>6</th>\n",
       "      <td>2015</td>\n",
       "      <td>217694</td>\n",
       "      <td>2015</td>\n",
       "      <td>8468180</td>\n",
       "      <td>28189.680426</td>\n",
       "    </tr>\n",
       "    <tr>\n",
       "      <th>7</th>\n",
       "      <td>2014</td>\n",
       "      <td>206033</td>\n",
       "      <td>2014</td>\n",
       "      <td>8437390</td>\n",
       "      <td>28087.183755</td>\n",
       "    </tr>\n",
       "    <tr>\n",
       "      <th>8</th>\n",
       "      <td>2013</td>\n",
       "      <td>203734</td>\n",
       "      <td>2013</td>\n",
       "      <td>8398740</td>\n",
       "      <td>27958.521971</td>\n",
       "    </tr>\n",
       "  </tbody>\n",
       "</table>\n",
       "</div>"
      ],
      "text/plain": [
       "   CRASH_YEAR  Total_Crashes  Year  Population  Population_Density\n",
       "0        2018         231562  2018     8398750        27958.555260\n",
       "1        2017         231007  2017     8438270        28090.113182\n",
       "2        2019         211481  2019     8361040        27833.022636\n",
       "3        2020          99840  2020     8323340        27707.523302\n",
       "4        2012         100541  2012     8348030        27789.713715\n",
       "5        2016         229830  2016     8475980        28215.645806\n",
       "6        2015         217694  2015     8468180        28189.680426\n",
       "7        2014         206033  2014     8437390        28087.183755\n",
       "8        2013         203734  2013     8398740        27958.521971"
      ]
     },
     "execution_count": 82,
     "metadata": {},
     "output_type": "execute_result"
    }
   ],
   "source": [
    "crashes_population"
   ]
  },
  {
   "cell_type": "code",
   "execution_count": 83,
   "metadata": {},
   "outputs": [],
   "source": [
    "crashes_population.loc[:, 'Crashes_per_capita'] = crashes_population['Total_Crashes']/crashes_population['Population']"
   ]
  },
  {
   "cell_type": "code",
   "execution_count": 107,
   "metadata": {},
   "outputs": [
    {
     "data": {
      "text/html": [
       "<div>\n",
       "<style scoped>\n",
       "    .dataframe tbody tr th:only-of-type {\n",
       "        vertical-align: middle;\n",
       "    }\n",
       "\n",
       "    .dataframe tbody tr th {\n",
       "        vertical-align: top;\n",
       "    }\n",
       "\n",
       "    .dataframe thead th {\n",
       "        text-align: right;\n",
       "    }\n",
       "</style>\n",
       "<table border=\"1\" class=\"dataframe\">\n",
       "  <thead>\n",
       "    <tr style=\"text-align: right;\">\n",
       "      <th></th>\n",
       "      <th>CRASH_YEAR</th>\n",
       "      <th>Total_Crashes</th>\n",
       "      <th>Year</th>\n",
       "      <th>Population</th>\n",
       "      <th>Population_Density</th>\n",
       "      <th>Crashes_per_capita</th>\n",
       "    </tr>\n",
       "  </thead>\n",
       "  <tbody>\n",
       "    <tr>\n",
       "      <th>4</th>\n",
       "      <td>2012</td>\n",
       "      <td>100541</td>\n",
       "      <td>2012</td>\n",
       "      <td>8348030</td>\n",
       "      <td>27789.713715</td>\n",
       "      <td>0.012044</td>\n",
       "    </tr>\n",
       "    <tr>\n",
       "      <th>8</th>\n",
       "      <td>2013</td>\n",
       "      <td>203734</td>\n",
       "      <td>2013</td>\n",
       "      <td>8398740</td>\n",
       "      <td>27958.521971</td>\n",
       "      <td>0.024258</td>\n",
       "    </tr>\n",
       "    <tr>\n",
       "      <th>7</th>\n",
       "      <td>2014</td>\n",
       "      <td>206033</td>\n",
       "      <td>2014</td>\n",
       "      <td>8437390</td>\n",
       "      <td>28087.183755</td>\n",
       "      <td>0.024419</td>\n",
       "    </tr>\n",
       "    <tr>\n",
       "      <th>6</th>\n",
       "      <td>2015</td>\n",
       "      <td>217694</td>\n",
       "      <td>2015</td>\n",
       "      <td>8468180</td>\n",
       "      <td>28189.680426</td>\n",
       "      <td>0.025707</td>\n",
       "    </tr>\n",
       "    <tr>\n",
       "      <th>5</th>\n",
       "      <td>2016</td>\n",
       "      <td>229830</td>\n",
       "      <td>2016</td>\n",
       "      <td>8475980</td>\n",
       "      <td>28215.645806</td>\n",
       "      <td>0.027115</td>\n",
       "    </tr>\n",
       "    <tr>\n",
       "      <th>1</th>\n",
       "      <td>2017</td>\n",
       "      <td>231007</td>\n",
       "      <td>2017</td>\n",
       "      <td>8438270</td>\n",
       "      <td>28090.113182</td>\n",
       "      <td>0.027376</td>\n",
       "    </tr>\n",
       "    <tr>\n",
       "      <th>0</th>\n",
       "      <td>2018</td>\n",
       "      <td>231562</td>\n",
       "      <td>2018</td>\n",
       "      <td>8398750</td>\n",
       "      <td>27958.555260</td>\n",
       "      <td>0.027571</td>\n",
       "    </tr>\n",
       "    <tr>\n",
       "      <th>2</th>\n",
       "      <td>2019</td>\n",
       "      <td>211481</td>\n",
       "      <td>2019</td>\n",
       "      <td>8361040</td>\n",
       "      <td>27833.022636</td>\n",
       "      <td>0.025294</td>\n",
       "    </tr>\n",
       "    <tr>\n",
       "      <th>3</th>\n",
       "      <td>2020</td>\n",
       "      <td>99840</td>\n",
       "      <td>2020</td>\n",
       "      <td>8323340</td>\n",
       "      <td>27707.523302</td>\n",
       "      <td>0.011995</td>\n",
       "    </tr>\n",
       "  </tbody>\n",
       "</table>\n",
       "</div>"
      ],
      "text/plain": [
       "   CRASH_YEAR  Total_Crashes  Year  Population  Population_Density  \\\n",
       "4        2012         100541  2012     8348030        27789.713715   \n",
       "8        2013         203734  2013     8398740        27958.521971   \n",
       "7        2014         206033  2014     8437390        28087.183755   \n",
       "6        2015         217694  2015     8468180        28189.680426   \n",
       "5        2016         229830  2016     8475980        28215.645806   \n",
       "1        2017         231007  2017     8438270        28090.113182   \n",
       "0        2018         231562  2018     8398750        27958.555260   \n",
       "2        2019         211481  2019     8361040        27833.022636   \n",
       "3        2020          99840  2020     8323340        27707.523302   \n",
       "\n",
       "   Crashes_per_capita  \n",
       "4            0.012044  \n",
       "8            0.024258  \n",
       "7            0.024419  \n",
       "6            0.025707  \n",
       "5            0.027115  \n",
       "1            0.027376  \n",
       "0            0.027571  \n",
       "2            0.025294  \n",
       "3            0.011995  "
      ]
     },
     "execution_count": 107,
     "metadata": {},
     "output_type": "execute_result"
    }
   ],
   "source": [
    "crashes_population_sorted = crashes_population.sort_values(by=['Year'])\n",
    "crashes_population_sorted"
   ]
  },
  {
   "cell_type": "code",
   "execution_count": 104,
   "metadata": {},
   "outputs": [
    {
     "data": {
      "image/png": "[encoded data removed]",
      "text/plain": [
       "<Figure size 432x288 with 1 Axes>"
      ]
     },
     "metadata": {
      "needs_background": "light"
     },
     "output_type": "display_data"
    }
   ],
   "source": [
    "plt.plot(crashes_population_sorted['Year'], crashes_population_sorted['Crashes_per_capita'], color='red', marker='o')\n",
    "plt.title('Crashes_per_Capita Vs Year for NYC')\n",
    "plt.xlabel('Year')\n",
    "plt.ylabel('Crashes_per_capita')\n",
    "plt.show()"
   ]
  },
  {
   "cell_type": "code",
   "execution_count": 106,
   "metadata": {},
   "outputs": [
    {
     "data": {
      "image/png": "[encoded data removed]",
      "text/plain": [
       "<Figure size 432x288 with 1 Axes>"
      ]
     },
     "metadata": {
      "needs_background": "light"
     },
     "output_type": "display_data"
    }
   ],
   "source": [
    "plt.plot(crashes_population_sorted['Crashes_per_capita'], crashes_population_sorted['Population_Density'], color='red', marker='o')\n",
    "plt.title('Crashes_per_Capita Vs Population for NYC')\n",
    "plt.xlabel('Population')\n",
    "plt.ylabel('Crashes_per_capita')\n",
    "plt.show()"
   ]
  },
  {
   "cell_type": "code",
   "execution_count": 92,
   "metadata": {},
   "outputs": [],
   "source": [
    "crashes_population_subset = crashes_population.drop([3,4],0)"
   ]
  },
  {
   "cell_type": "code",
   "execution_count": 99,
   "metadata": {},
   "outputs": [],
   "source": [
    "crashes_population_subset_sorted = crashes_population_subset.sort_values(by=['Year'])"
   ]
  },
  {
   "cell_type": "code",
   "execution_count": 100,
   "metadata": {},
   "outputs": [
    {
     "data": {
      "image/png": "[encoded data removed]",
      "text/plain": [
       "<Figure size 432x288 with 1 Axes>"
      ]
     },
     "metadata": {
      "needs_background": "light"
     },
     "output_type": "display_data"
    }
   ],
   "source": [
    "plt.plot(crashes_population_subset_sorted['Year'], crashes_population_subset_sorted['Crashes_per_capita'], color='red', marker='o')\n",
    "plt.title('Crashes_per_Capita Vs Year for NYC')\n",
    "plt.xlabel('Year')\n",
    "plt.ylabel('Crashes_per_capita')\n",
    "plt.show()"
   ]
  },
  {
   "cell_type": "code",
   "execution_count": 109,
   "metadata": {},
   "outputs": [
    {
     "data": {
      "image/png": "[encoded data removed]",
      "text/plain": [
       "<Figure size 432x288 with 1 Axes>"
      ]
     },
     "metadata": {
      "needs_background": "light"
     },
     "output_type": "display_data"
    }
   ],
   "source": [
    "plt.plot(crashes_population_subset_sorted['Crashes_per_capita'], crashes_population_subset_sorted['Population_Density'], color='red', marker='o')\n",
    "plt.title('Crashes_per_Capita Vs Population for NYC')\n",
    "plt.xlabel('Population Density')\n",
    "plt.ylabel('Crashes_per_capita')\n",
    "plt.show()"
   ]
  },
  {
   "cell_type": "code",
   "execution_count": null,
   "metadata": {},
   "outputs": [],
   "source": []
  },
  {
   "cell_type": "code",
   "execution_count": null,
   "metadata": {},
   "outputs": [],
   "source": []
  }
 ],
 "metadata": {
  "kernelspec": {
   "display_name": "Python 3",
   "language": "python",
   "name": "python3"
  },
  "language_info": {
   "codemirror_mode": {
    "name": "ipython",
    "version": 3
   },
   "file_extension": ".py",
   "mimetype": "text/x-python",
   "name": "python",
   "nbconvert_exporter": "python",
   "pygments_lexer": "ipython3",
   "version": "3.6.9"
  }
 },
 "nbformat": 4,
 "nbformat_minor": 2
}
