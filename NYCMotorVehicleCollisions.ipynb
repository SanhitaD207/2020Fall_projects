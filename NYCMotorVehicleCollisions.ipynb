{
 "cells": [
  {
   "cell_type": "code",
   "execution_count": 34,
   "metadata": {},
   "outputs": [],
   "source": [
    "import pandas as pd\n",
    "import numpy as np"
   ]
  },
  {
   "cell_type": "code",
   "execution_count": 2,
   "metadata": {},
   "outputs": [],
   "source": [
    "crashes = pd.read_csv('Motor_Vehicle_Collisions_-_Crashes.csv', low_memory=False)"
   ]
  },
  {
   "cell_type": "code",
   "execution_count": 3,
   "metadata": {},
   "outputs": [],
   "source": [
    "persons = pd.read_csv('Motor_Vehicle_Collisions_-_Person.csv', low_memory=False)"
   ]
  },
  {
   "cell_type": "code",
   "execution_count": 5,
   "metadata": {},
   "outputs": [],
   "source": [
    "vehicles = pd.read_csv('Motor_Vehicle_Collisions_-_Vehicles.csv', low_memory=False)"
   ]
  },
  {
   "cell_type": "code",
   "execution_count": 6,
   "metadata": {},
   "outputs": [
    {
     "data": {
      "text/plain": [
       "Index(['CRASH DATE', 'CRASH TIME', 'BOROUGH', 'ZIP CODE', 'LATITUDE',\n",
       "       'LONGITUDE', 'LOCATION', 'ON STREET NAME', 'CROSS STREET NAME',\n",
       "       'OFF STREET NAME', 'NUMBER OF PERSONS INJURED',\n",
       "       'NUMBER OF PERSONS KILLED', 'NUMBER OF PEDESTRIANS INJURED',\n",
       "       'NUMBER OF PEDESTRIANS KILLED', 'NUMBER OF CYCLIST INJURED',\n",
       "       'NUMBER OF CYCLIST KILLED', 'NUMBER OF MOTORIST INJURED',\n",
       "       'NUMBER OF MOTORIST KILLED', 'CONTRIBUTING FACTOR VEHICLE 1',\n",
       "       'CONTRIBUTING FACTOR VEHICLE 2', 'CONTRIBUTING FACTOR VEHICLE 3',\n",
       "       'CONTRIBUTING FACTOR VEHICLE 4', 'CONTRIBUTING FACTOR VEHICLE 5',\n",
       "       'COLLISION_ID', 'VEHICLE TYPE CODE 1', 'VEHICLE TYPE CODE 2',\n",
       "       'VEHICLE TYPE CODE 3', 'VEHICLE TYPE CODE 4', 'VEHICLE TYPE CODE 5'],\n",
       "      dtype='object')"
      ]
     },
     "execution_count": 6,
     "metadata": {},
     "output_type": "execute_result"
    }
   ],
   "source": [
    "crashes.columns"
   ]
  },
  {
   "cell_type": "code",
   "execution_count": 8,
   "metadata": {},
   "outputs": [
    {
     "data": {
      "text/plain": [
       "Index(['UNIQUE_ID', 'COLLISION_ID', 'CRASH_DATE', 'CRASH_TIME', 'PERSON_ID',\n",
       "       'PERSON_TYPE', 'PERSON_INJURY', 'VEHICLE_ID', 'PERSON_AGE', 'EJECTION',\n",
       "       'EMOTIONAL_STATUS', 'BODILY_INJURY', 'POSITION_IN_VEHICLE',\n",
       "       'SAFETY_EQUIPMENT', 'PED_LOCATION', 'PED_ACTION', 'COMPLAINT',\n",
       "       'PED_ROLE', 'CONTRIBUTING_FACTOR_1', 'CONTRIBUTING_FACTOR_2',\n",
       "       'PERSON_SEX'],\n",
       "      dtype='object')"
      ]
     },
     "execution_count": 8,
     "metadata": {},
     "output_type": "execute_result"
    }
   ],
   "source": [
    "persons.columns"
   ]
  },
  {
   "cell_type": "code",
   "execution_count": 20,
   "metadata": {},
   "outputs": [
    {
     "data": {
      "text/plain": [
       "Index(['UNIQUE_ID', 'COLLISION_ID', 'CRASH_DATE', 'CRASH_TIME', 'VEHICLE_ID',\n",
       "       'STATE_REGISTRATION', 'VEHICLE_TYPE', 'VEHICLE_MAKE', 'VEHICLE_MODEL',\n",
       "       'VEHICLE_YEAR', 'TRAVEL_DIRECTION', 'VEHICLE_OCCUPANTS', 'DRIVER_SEX',\n",
       "       'DRIVER_LICENSE_STATUS', 'DRIVER_LICENSE_JURISDICTION', 'PRE_CRASH',\n",
       "       'POINT_OF_IMPACT', 'VEHICLE_DAMAGE', 'VEHICLE_DAMAGE_1',\n",
       "       'VEHICLE_DAMAGE_2', 'VEHICLE_DAMAGE_3', 'PUBLIC_PROPERTY_DAMAGE',\n",
       "       'PUBLIC_PROPERTY_DAMAGE_TYPE', 'CONTRIBUTING_FACTOR_1',\n",
       "       'CONTRIBUTING_FACTOR_2'],\n",
       "      dtype='object')"
      ]
     },
     "execution_count": 20,
     "metadata": {},
     "output_type": "execute_result"
    }
   ],
   "source": [
    "vehicles.columns"
   ]
  },
  {
   "cell_type": "code",
   "execution_count": 7,
   "metadata": {},
   "outputs": [
    {
     "data": {
      "text/plain": [
       "array(['Driver Inattention/Distraction', 'Turning Improperly',\n",
       "       'Following Too Closely', 'Unsafe Speed', 'Unspecified',\n",
       "       'Backing Unsafely', 'Unsafe Lane Changing',\n",
       "       'Traffic Control Disregarded', 'Passing Too Closely',\n",
       "       'Failure to Yield Right-of-Way', nan, 'Other Vehicular',\n",
       "       'Passing or Lane Usage Improper', 'Driverless/Runaway Vehicle',\n",
       "       'Reaction to Uninvolved Vehicle', 'Illnes', 'Driver Inexperience',\n",
       "       'Obstruction/Debris', 'Steering Failure', 'Alcohol Involvement',\n",
       "       'Tire Failure/Inadequate',\n",
       "       'Pedestrian/Bicyclist/Other Pedestrian Error/Confusion',\n",
       "       'View Obstructed/Limited', 'Outside Car Distraction',\n",
       "       'Pavement Slippery', 'Aggressive Driving/Road Rage',\n",
       "       'Passenger Distraction', 'Oversized Vehicle',\n",
       "       'Traffic Control Device Improper/Non-Working',\n",
       "       'Failure to Keep Right', 'Drugs (illegal)', 'Glare', 'Fell Asleep',\n",
       "       'Pavement Defective', 'Brakes Defective', 'Eating or Drinking',\n",
       "       'Lost Consciousness', 'Fatigued/Drowsy', 'Accelerator Defective',\n",
       "       'Vehicle Vandalism', 'Lane Marking Improper/Inadequate',\n",
       "       'Cell Phone (hand-Held)', 'Animals Action',\n",
       "       'Other Electronic Device', 'Prescription Medication',\n",
       "       'Windshield Inadequate', 'Other Lighting Defects',\n",
       "       'Using On Board Navigation Device', 'Physical Disability',\n",
       "       'Tinted Windows', 'Shoulders Defective/Improper',\n",
       "       'Listening/Using Headphones', 'Headlights Defective', 'Texting',\n",
       "       'Tow Hitch Defective', 'Cell Phone (hands-free)', 'Illness', '80',\n",
       "       'Reaction to Other Uninvolved Vehicle', 'Drugs (Illegal)', '1',\n",
       "       'Cell Phone (hand-held)'], dtype=object)"
      ]
     },
     "execution_count": 7,
     "metadata": {},
     "output_type": "execute_result"
    }
   ],
   "source": [
    "crashes['CONTRIBUTING FACTOR VEHICLE 1'].unique()"
   ]
  },
  {
   "cell_type": "code",
   "execution_count": 9,
   "metadata": {},
   "outputs": [
    {
     "data": {
      "text/plain": [
       "Unspecified                                              36161\n",
       "Pedestrian/Bicyclist/Other Pedestrian Error/Confusion     8802\n",
       "Driver Inattention/Distraction                            1797\n",
       "Failure to Yield Right-of-Way                             1434\n",
       "Traffic Control Disregarded                                865\n",
       "Alcohol Involvement                                        851\n",
       "Other Vehicular                                            632\n",
       "View Obstructed/Limited                                    350\n",
       "Cell Phone (hand-Held)                                     226\n",
       "Backing Unsafely                                           155\n",
       "Passing or Lane Usage Improper                             125\n",
       "Passing Too Closely                                        104\n",
       "Aggressive Driving/Road Rage                                95\n",
       "Pavement Slippery                                           79\n",
       "Passenger Distraction                                       77\n",
       "Unsafe Speed                                                72\n",
       "Following Too Closely                                       49\n",
       "Listening/Using Headphones                                  43\n",
       "Reaction to Uninvolved Vehicle                              41\n",
       "Physical Disability                                         41\n",
       "Outside Car Distraction                                     38\n",
       "Driver Inexperience                                         37\n",
       "Glare                                                       32\n",
       "Obstruction/Debris                                          27\n",
       "Animals Action                                              27\n",
       "Drugs (illegal)                                             26\n",
       "Turning Improperly                                          24\n",
       "Other Electronic Device                                     20\n",
       "Texting                                                     18\n",
       "Driverless/Runaway Vehicle                                  16\n",
       "Traffic Control Device Improper/Non-Working                 16\n",
       "Fatigued/Drowsy                                             12\n",
       "Failure to Keep Right                                       12\n",
       "Pavement Defective                                          12\n",
       "Illnes                                                      12\n",
       "Fell Asleep                                                  9\n",
       "Unsafe Lane Changing                                         9\n",
       "Prescription Medication                                      9\n",
       "Oversized Vehicle                                            8\n",
       "Lost Consciousness                                           7\n",
       "Lane Marking Improper/Inadequate                             7\n",
       "Vehicle Vandalism                                            5\n",
       "Cell Phone (hands-free)                                      4\n",
       "Eating or Drinking                                           4\n",
       "Brakes Defective                                             2\n",
       "Headlights Defective                                         1\n",
       "Windshield Inadequate                                        1\n",
       "Tinted Windows                                               1\n",
       "Using On Board Navigation Device                             1\n",
       "Other Lighting Defects                                       1\n",
       "Tire Failure/Inadequate                                      1\n",
       "Steering Failure                                             1\n",
       "Shoulders Defective/Improper                                 1\n",
       "Name: CONTRIBUTING_FACTOR_1, dtype: int64"
      ]
     },
     "execution_count": 9,
     "metadata": {},
     "output_type": "execute_result"
    }
   ],
   "source": [
    "persons['CONTRIBUTING_FACTOR_1'].value_counts()"
   ]
  },
  {
   "cell_type": "code",
   "execution_count": 13,
   "metadata": {},
   "outputs": [
    {
     "data": {
      "text/plain": [
       "array(['Unspecified', 'Driver Inattention/Distraction', 'Other Vehicular',\n",
       "       'Passenger Distraction', 'Unsafe Lane Changing', nan,\n",
       "       'Backing Unsafely', 'View Obstructed/Limited',\n",
       "       'Turning Improperly', 'Lost Consciousness',\n",
       "       'Aggressive Driving/Road Rage', 'Following Too Closely',\n",
       "       'Passing or Lane Usage Improper', 'Physical Disability',\n",
       "       'Fatigued/Drowsy', 'Failure to Yield Right-of-Way',\n",
       "       'Prescription Medication', 'Brakes Defective',\n",
       "       'Passing Too Closely', 'Traffic Control Disregarded',\n",
       "       'Outside Car Distraction', 'Illness',\n",
       "       'Reaction to Uninvolved Vehicle', 'Pavement Slippery',\n",
       "       'Alcohol Involvement', 'Oversized Vehicle', 'Unsafe Speed',\n",
       "       'Pedestrian/Bicyclist/Other Pedestrian Error/Confusion',\n",
       "       'Other Electronic Device', 'Driver Inexperience',\n",
       "       'Cell Phone (hand-Held)', '1', 'Glare', 'Obstruction/Debris',\n",
       "       'Failure to Keep Right', 'Fell Asleep', 'Pavement Defective',\n",
       "       'Reaction to Other Uninvolved Vehicle', 'Animals Action',\n",
       "       'Accelerator Defective', 'Tire Failure/Inadequate',\n",
       "       'Traffic Control Device Improper/Non-Working', 'Steering Failure',\n",
       "       'Lane Marking Improper/Inadequate', 'Driverless/Runaway Vehicle',\n",
       "       'Other Lighting Defects', 'Shoulders Defective/Improper', 'Illnes',\n",
       "       'Cell Phone (hands-free)', 'Vehicle Vandalism',\n",
       "       'Headlights Defective', 'Drugs (illegal)',\n",
       "       'Using On Board Navigation Device', 'Drugs (Illegal)',\n",
       "       'Windshield Inadequate', '80', 'Eating or Drinking',\n",
       "       'Cell Phone (hand-held)', 'Tow Hitch Defective', 'Tinted Windows',\n",
       "       'Texting', 'Listening/Using Headphones'], dtype=object)"
      ]
     },
     "execution_count": 13,
     "metadata": {},
     "output_type": "execute_result"
    }
   ],
   "source": [
    "vehicles['CONTRIBUTING_FACTOR_1'].unique()"
   ]
  },
  {
   "cell_type": "code",
   "execution_count": 21,
   "metadata": {},
   "outputs": [
    {
     "data": {
      "text/plain": [
       "array(['Does Not Apply', nan, 'Whiplash',\n",
       "       'Fracture - Distorted - Dislocation',\n",
       "       'Complaint of Pain or Nausea', 'Unknown', 'Minor Bleeding',\n",
       "       'Abrasion', 'None Visible', 'Internal', 'Contusion - Bruise',\n",
       "       'Complaint of Pain', 'Crush Injuries', 'Concussion', 'Minor Burn',\n",
       "       'Moderate Burn', 'Severe Lacerations', 'Severe Bleeding',\n",
       "       'Fracture - Dislocation', 'Amputation', 'Severe Burn', 'Paralysis'],\n",
       "      dtype=object)"
      ]
     },
     "execution_count": 21,
     "metadata": {},
     "output_type": "execute_result"
    }
   ],
   "source": [
    "persons['COMPLAINT'].unique()"
   ]
  },
  {
   "cell_type": "code",
   "execution_count": null,
   "metadata": {},
   "outputs": [],
   "source": []
  },
  {
   "cell_type": "code",
   "execution_count": null,
   "metadata": {},
   "outputs": [],
   "source": []
  },
  {
   "cell_type": "code",
   "execution_count": null,
   "metadata": {},
   "outputs": [],
   "source": []
  },
  {
   "cell_type": "code",
   "execution_count": null,
   "metadata": {},
   "outputs": [],
   "source": []
  },
  {
   "cell_type": "code",
   "execution_count": 26,
   "metadata": {},
   "outputs": [
    {
     "data": {
      "text/plain": [
       "(4117932, 49)"
      ]
     },
     "execution_count": 26,
     "metadata": {},
     "output_type": "execute_result"
    }
   ],
   "source": [
    "crashes_persons = pd.merge(crashes, persons, left_on='COLLISION_ID', right_on='COLLISION_ID', how='inner')\n",
    "crashes_persons.shape"
   ]
  },
  {
   "cell_type": "code",
   "execution_count": 32,
   "metadata": {},
   "outputs": [
    {
     "data": {
      "text/plain": [
       "Index(['CRASH DATE', 'CRASH TIME', 'BOROUGH', 'ZIP CODE', 'LATITUDE',\n",
       "       'LONGITUDE', 'LOCATION', 'ON STREET NAME', 'CROSS STREET NAME',\n",
       "       'OFF STREET NAME', 'NUMBER OF PERSONS INJURED',\n",
       "       'NUMBER OF PERSONS KILLED', 'NUMBER OF PEDESTRIANS INJURED',\n",
       "       'NUMBER OF PEDESTRIANS KILLED', 'NUMBER OF CYCLIST INJURED',\n",
       "       'NUMBER OF CYCLIST KILLED', 'NUMBER OF MOTORIST INJURED',\n",
       "       'NUMBER OF MOTORIST KILLED', 'CONTRIBUTING FACTOR VEHICLE 1',\n",
       "       'CONTRIBUTING FACTOR VEHICLE 2', 'CONTRIBUTING FACTOR VEHICLE 3',\n",
       "       'CONTRIBUTING FACTOR VEHICLE 4', 'CONTRIBUTING FACTOR VEHICLE 5',\n",
       "       'COLLISION_ID', 'VEHICLE TYPE CODE 1', 'VEHICLE TYPE CODE 2',\n",
       "       'VEHICLE TYPE CODE 3', 'VEHICLE TYPE CODE 4', 'VEHICLE TYPE CODE 5',\n",
       "       'UNIQUE_ID', 'CRASH_DATE', 'CRASH_TIME', 'PERSON_ID', 'PERSON_TYPE',\n",
       "       'PERSON_INJURY', 'VEHICLE_ID', 'PERSON_AGE', 'EJECTION',\n",
       "       'EMOTIONAL_STATUS', 'BODILY_INJURY', 'POSITION_IN_VEHICLE',\n",
       "       'SAFETY_EQUIPMENT', 'PED_LOCATION', 'PED_ACTION', 'COMPLAINT',\n",
       "       'PED_ROLE', 'CONTRIBUTING_FACTOR_1', 'CONTRIBUTING_FACTOR_2',\n",
       "       'PERSON_SEX'],\n",
       "      dtype='object')"
      ]
     },
     "execution_count": 32,
     "metadata": {},
     "output_type": "execute_result"
    }
   ],
   "source": [
    "crashes_persons.columns"
   ]
  },
  {
   "cell_type": "code",
   "execution_count": 37,
   "metadata": {},
   "outputs": [],
   "source": [
    "crashes_persons.loc[:, 'CRASH_YEAR'] = crashes_persons['CRASH_DATE'].astype(np.str_).apply(lambda x: x.split('/')[-1])"
   ]
  },
  {
   "cell_type": "code",
   "execution_count": 39,
   "metadata": {},
   "outputs": [
    {
     "data": {
      "text/plain": [
       "M    476561\n",
       "F    237778\n",
       "U     75771\n",
       "Name: PERSON_SEX, dtype: int64"
      ]
     },
     "execution_count": 39,
     "metadata": {},
     "output_type": "execute_result"
    }
   ],
   "source": [
    "crashes_persons[crashes_persons['CRASH_YEAR'] == '2019']['PERSON_SEX'].value_counts()"
   ]
  },
  {
   "cell_type": "code",
   "execution_count": null,
   "metadata": {},
   "outputs": [],
   "source": []
  },
  {
   "cell_type": "code",
   "execution_count": 75,
   "metadata": {},
   "outputs": [
    {
     "data": {
      "text/plain": [
       "(4117932, 21)"
      ]
     },
     "execution_count": 75,
     "metadata": {},
     "output_type": "execute_result"
    }
   ],
   "source": [
    "persons.shape"
   ]
  },
  {
   "cell_type": "code",
   "execution_count": 76,
   "metadata": {},
   "outputs": [
    {
     "data": {
      "text/plain": [
       "3923110"
      ]
     },
     "execution_count": 76,
     "metadata": {},
     "output_type": "execute_result"
    }
   ],
   "source": [
    "len(persons['PERSON_ID'].unique())"
   ]
  },
  {
   "cell_type": "code",
   "execution_count": 78,
   "metadata": {},
   "outputs": [
    {
     "data": {
      "text/html": [
       "<div>\n",
       "<style scoped>\n",
       "    .dataframe tbody tr th:only-of-type {\n",
       "        vertical-align: middle;\n",
       "    }\n",
       "\n",
       "    .dataframe tbody tr th {\n",
       "        vertical-align: top;\n",
       "    }\n",
       "\n",
       "    .dataframe thead th {\n",
       "        text-align: right;\n",
       "    }\n",
       "</style>\n",
       "<table border=\"1\" class=\"dataframe\">\n",
       "  <thead>\n",
       "    <tr style=\"text-align: right;\">\n",
       "      <th></th>\n",
       "      <th>UNIQUE_ID</th>\n",
       "      <th>COLLISION_ID</th>\n",
       "      <th>CRASH_DATE</th>\n",
       "      <th>CRASH_TIME</th>\n",
       "      <th>PERSON_ID</th>\n",
       "      <th>PERSON_TYPE</th>\n",
       "      <th>PERSON_INJURY</th>\n",
       "      <th>VEHICLE_ID</th>\n",
       "      <th>PERSON_AGE</th>\n",
       "      <th>EJECTION</th>\n",
       "      <th>...</th>\n",
       "      <th>BODILY_INJURY</th>\n",
       "      <th>POSITION_IN_VEHICLE</th>\n",
       "      <th>SAFETY_EQUIPMENT</th>\n",
       "      <th>PED_LOCATION</th>\n",
       "      <th>PED_ACTION</th>\n",
       "      <th>COMPLAINT</th>\n",
       "      <th>PED_ROLE</th>\n",
       "      <th>CONTRIBUTING_FACTOR_1</th>\n",
       "      <th>CONTRIBUTING_FACTOR_2</th>\n",
       "      <th>PERSON_SEX</th>\n",
       "    </tr>\n",
       "  </thead>\n",
       "  <tbody>\n",
       "    <tr>\n",
       "      <th>0</th>\n",
       "      <td>10252788</td>\n",
       "      <td>4230640</td>\n",
       "      <td>10/25/2019</td>\n",
       "      <td>17:42</td>\n",
       "      <td>0278267c-0b21-470f-8a54-da71b7361448</td>\n",
       "      <td>Occupant</td>\n",
       "      <td>Unspecified</td>\n",
       "      <td>19142923.0</td>\n",
       "      <td>0.0</td>\n",
       "      <td>Not Ejected</td>\n",
       "      <td>...</td>\n",
       "      <td>Does Not Apply</td>\n",
       "      <td>Any person in the rear of a station wagon, pic...</td>\n",
       "      <td>Unknown</td>\n",
       "      <td>NaN</td>\n",
       "      <td>NaN</td>\n",
       "      <td>Does Not Apply</td>\n",
       "      <td>Passenger</td>\n",
       "      <td>NaN</td>\n",
       "      <td>NaN</td>\n",
       "      <td>F</td>\n",
       "    </tr>\n",
       "    <tr>\n",
       "      <th>1</th>\n",
       "      <td>10253512</td>\n",
       "      <td>4230733</td>\n",
       "      <td>10/10/2019</td>\n",
       "      <td>19:45</td>\n",
       "      <td>81161123-516c-438d-8f29-a107d2783d85</td>\n",
       "      <td>Occupant</td>\n",
       "      <td>Unspecified</td>\n",
       "      <td>19143291.0</td>\n",
       "      <td>-1.0</td>\n",
       "      <td>NaN</td>\n",
       "      <td>...</td>\n",
       "      <td>NaN</td>\n",
       "      <td>NaN</td>\n",
       "      <td>NaN</td>\n",
       "      <td>NaN</td>\n",
       "      <td>NaN</td>\n",
       "      <td>NaN</td>\n",
       "      <td>Registrant</td>\n",
       "      <td>NaN</td>\n",
       "      <td>NaN</td>\n",
       "      <td>NaN</td>\n",
       "    </tr>\n",
       "    <tr>\n",
       "      <th>2</th>\n",
       "      <td>10250662</td>\n",
       "      <td>4230235</td>\n",
       "      <td>10/26/2019</td>\n",
       "      <td>10:40</td>\n",
       "      <td>b5da9aa6-3230-4203-bbde-3b6f9248ac31</td>\n",
       "      <td>Occupant</td>\n",
       "      <td>Injured</td>\n",
       "      <td>19141868.0</td>\n",
       "      <td>11.0</td>\n",
       "      <td>Not Ejected</td>\n",
       "      <td>...</td>\n",
       "      <td>Entire Body</td>\n",
       "      <td>Middle rear seat, or passenger lying across a ...</td>\n",
       "      <td>Unknown</td>\n",
       "      <td>NaN</td>\n",
       "      <td>NaN</td>\n",
       "      <td>Whiplash</td>\n",
       "      <td>Passenger</td>\n",
       "      <td>NaN</td>\n",
       "      <td>NaN</td>\n",
       "      <td>F</td>\n",
       "    </tr>\n",
       "    <tr>\n",
       "      <th>3</th>\n",
       "      <td>10252894</td>\n",
       "      <td>4231115</td>\n",
       "      <td>10/26/2019</td>\n",
       "      <td>18:45</td>\n",
       "      <td>4ed210b6-678c-4fe3-ae8c-3ecd30eae7aa</td>\n",
       "      <td>Pedestrian</td>\n",
       "      <td>Injured</td>\n",
       "      <td>NaN</td>\n",
       "      <td>30.0</td>\n",
       "      <td>NaN</td>\n",
       "      <td>...</td>\n",
       "      <td>Knee-Lower Leg Foot</td>\n",
       "      <td>Driver</td>\n",
       "      <td>None</td>\n",
       "      <td>Pedestrian/Bicyclist/Other Pedestrian at Inter...</td>\n",
       "      <td>Crossing Against Signal</td>\n",
       "      <td>Fracture - Distorted - Dislocation</td>\n",
       "      <td>Pedestrian</td>\n",
       "      <td>Pedestrian/Bicyclist/Other Pedestrian Error/Co...</td>\n",
       "      <td>Texting</td>\n",
       "      <td>M</td>\n",
       "    </tr>\n",
       "    <tr>\n",
       "      <th>4</th>\n",
       "      <td>6650180</td>\n",
       "      <td>3565527</td>\n",
       "      <td>11/21/2016</td>\n",
       "      <td>13:05</td>\n",
       "      <td>2782525</td>\n",
       "      <td>Occupant</td>\n",
       "      <td>Unspecified</td>\n",
       "      <td>NaN</td>\n",
       "      <td>-1.0</td>\n",
       "      <td>NaN</td>\n",
       "      <td>...</td>\n",
       "      <td>NaN</td>\n",
       "      <td>NaN</td>\n",
       "      <td>NaN</td>\n",
       "      <td>NaN</td>\n",
       "      <td>NaN</td>\n",
       "      <td>NaN</td>\n",
       "      <td>Notified Person</td>\n",
       "      <td>NaN</td>\n",
       "      <td>NaN</td>\n",
       "      <td>NaN</td>\n",
       "    </tr>\n",
       "    <tr>\n",
       "      <th>...</th>\n",
       "      <td>...</td>\n",
       "      <td>...</td>\n",
       "      <td>...</td>\n",
       "      <td>...</td>\n",
       "      <td>...</td>\n",
       "      <td>...</td>\n",
       "      <td>...</td>\n",
       "      <td>...</td>\n",
       "      <td>...</td>\n",
       "      <td>...</td>\n",
       "      <td>...</td>\n",
       "      <td>...</td>\n",
       "      <td>...</td>\n",
       "      <td>...</td>\n",
       "      <td>...</td>\n",
       "      <td>...</td>\n",
       "      <td>...</td>\n",
       "      <td>...</td>\n",
       "      <td>...</td>\n",
       "      <td>...</td>\n",
       "      <td>...</td>\n",
       "    </tr>\n",
       "    <tr>\n",
       "      <th>4117927</th>\n",
       "      <td>11492380</td>\n",
       "      <td>4367476</td>\n",
       "      <td>11/14/2020</td>\n",
       "      <td>19:30</td>\n",
       "      <td>8f11c8fd-2606-4424-9be1-bf1ba5d6a844</td>\n",
       "      <td>Occupant</td>\n",
       "      <td>Unspecified</td>\n",
       "      <td>19795591.0</td>\n",
       "      <td>-1.0</td>\n",
       "      <td>Not Ejected</td>\n",
       "      <td>...</td>\n",
       "      <td>Does Not Apply</td>\n",
       "      <td>Driver</td>\n",
       "      <td>Lap Belt &amp; Harness</td>\n",
       "      <td>NaN</td>\n",
       "      <td>NaN</td>\n",
       "      <td>Does Not Apply</td>\n",
       "      <td>Driver</td>\n",
       "      <td>NaN</td>\n",
       "      <td>NaN</td>\n",
       "      <td>M</td>\n",
       "    </tr>\n",
       "    <tr>\n",
       "      <th>4117928</th>\n",
       "      <td>11491084</td>\n",
       "      <td>4368119</td>\n",
       "      <td>11/15/2020</td>\n",
       "      <td>12:50</td>\n",
       "      <td>d34a43b9-3f78-468a-8904-6e2666912e7d</td>\n",
       "      <td>Occupant</td>\n",
       "      <td>Unspecified</td>\n",
       "      <td>NaN</td>\n",
       "      <td>-1.0</td>\n",
       "      <td>NaN</td>\n",
       "      <td>...</td>\n",
       "      <td>NaN</td>\n",
       "      <td>NaN</td>\n",
       "      <td>NaN</td>\n",
       "      <td>NaN</td>\n",
       "      <td>NaN</td>\n",
       "      <td>NaN</td>\n",
       "      <td>Witness</td>\n",
       "      <td>NaN</td>\n",
       "      <td>NaN</td>\n",
       "      <td>NaN</td>\n",
       "    </tr>\n",
       "    <tr>\n",
       "      <th>4117929</th>\n",
       "      <td>11492262</td>\n",
       "      <td>4363568</td>\n",
       "      <td>11/01/2020</td>\n",
       "      <td>11:30</td>\n",
       "      <td>3fbd7bd6-09f8-4965-8b14-89b92a1d9a57</td>\n",
       "      <td>Occupant</td>\n",
       "      <td>Unspecified</td>\n",
       "      <td>19795505.0</td>\n",
       "      <td>64.0</td>\n",
       "      <td>Not Ejected</td>\n",
       "      <td>...</td>\n",
       "      <td>Does Not Apply</td>\n",
       "      <td>Middle rear seat, or passenger lying across a ...</td>\n",
       "      <td>Lap Belt &amp; Harness</td>\n",
       "      <td>NaN</td>\n",
       "      <td>NaN</td>\n",
       "      <td>Does Not Apply</td>\n",
       "      <td>Passenger</td>\n",
       "      <td>NaN</td>\n",
       "      <td>NaN</td>\n",
       "      <td>M</td>\n",
       "    </tr>\n",
       "    <tr>\n",
       "      <th>4117930</th>\n",
       "      <td>11488971</td>\n",
       "      <td>4367827</td>\n",
       "      <td>11/15/2020</td>\n",
       "      <td>15:30</td>\n",
       "      <td>b03111af-f963-49c3-a9c2-f081e330ec04</td>\n",
       "      <td>Occupant</td>\n",
       "      <td>Unspecified</td>\n",
       "      <td>19793544.0</td>\n",
       "      <td>-1.0</td>\n",
       "      <td>NaN</td>\n",
       "      <td>...</td>\n",
       "      <td>NaN</td>\n",
       "      <td>NaN</td>\n",
       "      <td>NaN</td>\n",
       "      <td>NaN</td>\n",
       "      <td>NaN</td>\n",
       "      <td>NaN</td>\n",
       "      <td>Registrant</td>\n",
       "      <td>NaN</td>\n",
       "      <td>NaN</td>\n",
       "      <td>U</td>\n",
       "    </tr>\n",
       "    <tr>\n",
       "      <th>4117931</th>\n",
       "      <td>11492142</td>\n",
       "      <td>4368500</td>\n",
       "      <td>11/03/2020</td>\n",
       "      <td>16:40</td>\n",
       "      <td>e89bb7cf-e6a5-4c74-a180-d87f4b4a14a5</td>\n",
       "      <td>Occupant</td>\n",
       "      <td>Unspecified</td>\n",
       "      <td>19795435.0</td>\n",
       "      <td>43.0</td>\n",
       "      <td>NaN</td>\n",
       "      <td>...</td>\n",
       "      <td>NaN</td>\n",
       "      <td>NaN</td>\n",
       "      <td>NaN</td>\n",
       "      <td>NaN</td>\n",
       "      <td>NaN</td>\n",
       "      <td>NaN</td>\n",
       "      <td>Registrant</td>\n",
       "      <td>NaN</td>\n",
       "      <td>NaN</td>\n",
       "      <td>F</td>\n",
       "    </tr>\n",
       "  </tbody>\n",
       "</table>\n",
       "<p>3923218 rows × 21 columns</p>\n",
       "</div>"
      ],
      "text/plain": [
       "         UNIQUE_ID  COLLISION_ID  CRASH_DATE CRASH_TIME  \\\n",
       "0         10252788       4230640  10/25/2019      17:42   \n",
       "1         10253512       4230733  10/10/2019      19:45   \n",
       "2         10250662       4230235  10/26/2019      10:40   \n",
       "3         10252894       4231115  10/26/2019      18:45   \n",
       "4          6650180       3565527  11/21/2016      13:05   \n",
       "...            ...           ...         ...        ...   \n",
       "4117927   11492380       4367476  11/14/2020      19:30   \n",
       "4117928   11491084       4368119  11/15/2020      12:50   \n",
       "4117929   11492262       4363568  11/01/2020      11:30   \n",
       "4117930   11488971       4367827  11/15/2020      15:30   \n",
       "4117931   11492142       4368500  11/03/2020      16:40   \n",
       "\n",
       "                                    PERSON_ID PERSON_TYPE PERSON_INJURY  \\\n",
       "0        0278267c-0b21-470f-8a54-da71b7361448    Occupant   Unspecified   \n",
       "1        81161123-516c-438d-8f29-a107d2783d85    Occupant   Unspecified   \n",
       "2        b5da9aa6-3230-4203-bbde-3b6f9248ac31    Occupant       Injured   \n",
       "3        4ed210b6-678c-4fe3-ae8c-3ecd30eae7aa  Pedestrian       Injured   \n",
       "4                                     2782525    Occupant   Unspecified   \n",
       "...                                       ...         ...           ...   \n",
       "4117927  8f11c8fd-2606-4424-9be1-bf1ba5d6a844    Occupant   Unspecified   \n",
       "4117928  d34a43b9-3f78-468a-8904-6e2666912e7d    Occupant   Unspecified   \n",
       "4117929  3fbd7bd6-09f8-4965-8b14-89b92a1d9a57    Occupant   Unspecified   \n",
       "4117930  b03111af-f963-49c3-a9c2-f081e330ec04    Occupant   Unspecified   \n",
       "4117931  e89bb7cf-e6a5-4c74-a180-d87f4b4a14a5    Occupant   Unspecified   \n",
       "\n",
       "         VEHICLE_ID  PERSON_AGE     EJECTION  ...        BODILY_INJURY  \\\n",
       "0        19142923.0         0.0  Not Ejected  ...       Does Not Apply   \n",
       "1        19143291.0        -1.0          NaN  ...                  NaN   \n",
       "2        19141868.0        11.0  Not Ejected  ...          Entire Body   \n",
       "3               NaN        30.0          NaN  ...  Knee-Lower Leg Foot   \n",
       "4               NaN        -1.0          NaN  ...                  NaN   \n",
       "...             ...         ...          ...  ...                  ...   \n",
       "4117927  19795591.0        -1.0  Not Ejected  ...       Does Not Apply   \n",
       "4117928         NaN        -1.0          NaN  ...                  NaN   \n",
       "4117929  19795505.0        64.0  Not Ejected  ...       Does Not Apply   \n",
       "4117930  19793544.0        -1.0          NaN  ...                  NaN   \n",
       "4117931  19795435.0        43.0          NaN  ...                  NaN   \n",
       "\n",
       "                                       POSITION_IN_VEHICLE  \\\n",
       "0        Any person in the rear of a station wagon, pic...   \n",
       "1                                                      NaN   \n",
       "2        Middle rear seat, or passenger lying across a ...   \n",
       "3                                                   Driver   \n",
       "4                                                      NaN   \n",
       "...                                                    ...   \n",
       "4117927                                             Driver   \n",
       "4117928                                                NaN   \n",
       "4117929  Middle rear seat, or passenger lying across a ...   \n",
       "4117930                                                NaN   \n",
       "4117931                                                NaN   \n",
       "\n",
       "           SAFETY_EQUIPMENT  \\\n",
       "0                   Unknown   \n",
       "1                       NaN   \n",
       "2                   Unknown   \n",
       "3                      None   \n",
       "4                       NaN   \n",
       "...                     ...   \n",
       "4117927  Lap Belt & Harness   \n",
       "4117928                 NaN   \n",
       "4117929  Lap Belt & Harness   \n",
       "4117930                 NaN   \n",
       "4117931                 NaN   \n",
       "\n",
       "                                              PED_LOCATION  \\\n",
       "0                                                      NaN   \n",
       "1                                                      NaN   \n",
       "2                                                      NaN   \n",
       "3        Pedestrian/Bicyclist/Other Pedestrian at Inter...   \n",
       "4                                                      NaN   \n",
       "...                                                    ...   \n",
       "4117927                                                NaN   \n",
       "4117928                                                NaN   \n",
       "4117929                                                NaN   \n",
       "4117930                                                NaN   \n",
       "4117931                                                NaN   \n",
       "\n",
       "                      PED_ACTION                           COMPLAINT  \\\n",
       "0                            NaN                      Does Not Apply   \n",
       "1                            NaN                                 NaN   \n",
       "2                            NaN                            Whiplash   \n",
       "3        Crossing Against Signal  Fracture - Distorted - Dislocation   \n",
       "4                            NaN                                 NaN   \n",
       "...                          ...                                 ...   \n",
       "4117927                      NaN                      Does Not Apply   \n",
       "4117928                      NaN                                 NaN   \n",
       "4117929                      NaN                      Does Not Apply   \n",
       "4117930                      NaN                                 NaN   \n",
       "4117931                      NaN                                 NaN   \n",
       "\n",
       "                PED_ROLE                              CONTRIBUTING_FACTOR_1  \\\n",
       "0              Passenger                                                NaN   \n",
       "1             Registrant                                                NaN   \n",
       "2              Passenger                                                NaN   \n",
       "3             Pedestrian  Pedestrian/Bicyclist/Other Pedestrian Error/Co...   \n",
       "4        Notified Person                                                NaN   \n",
       "...                  ...                                                ...   \n",
       "4117927           Driver                                                NaN   \n",
       "4117928          Witness                                                NaN   \n",
       "4117929        Passenger                                                NaN   \n",
       "4117930       Registrant                                                NaN   \n",
       "4117931       Registrant                                                NaN   \n",
       "\n",
       "        CONTRIBUTING_FACTOR_2 PERSON_SEX  \n",
       "0                         NaN          F  \n",
       "1                         NaN        NaN  \n",
       "2                         NaN          F  \n",
       "3                     Texting          M  \n",
       "4                         NaN        NaN  \n",
       "...                       ...        ...  \n",
       "4117927                   NaN          M  \n",
       "4117928                   NaN        NaN  \n",
       "4117929                   NaN          M  \n",
       "4117930                   NaN          U  \n",
       "4117931                   NaN          F  \n",
       "\n",
       "[3923218 rows x 21 columns]"
      ]
     },
     "execution_count": 78,
     "metadata": {},
     "output_type": "execute_result"
    }
   ],
   "source": [
    "persons.groupby(['PERSON_ID']).head()"
   ]
  },
  {
   "cell_type": "code",
   "execution_count": null,
   "metadata": {},
   "outputs": [],
   "source": []
  },
  {
   "cell_type": "code",
   "execution_count": null,
   "metadata": {},
   "outputs": [],
   "source": []
  },
  {
   "cell_type": "code",
   "execution_count": null,
   "metadata": {},
   "outputs": [],
   "source": []
  },
  {
   "cell_type": "code",
   "execution_count": 71,
   "metadata": {},
   "outputs": [
    {
     "data": {
      "text/plain": [
       "(18212, 25)"
      ]
     },
     "execution_count": 71,
     "metadata": {},
     "output_type": "execute_result"
    }
   ],
   "source": [
    "vehicles[vehicles['CONTRIBUTING_FACTOR_1'] == 'Alcohol Involvement'].shape"
   ]
  },
  {
   "cell_type": "code",
   "execution_count": 73,
   "metadata": {},
   "outputs": [
    {
     "data": {
      "text/plain": [
       "(16854, 29)"
      ]
     },
     "execution_count": 73,
     "metadata": {},
     "output_type": "execute_result"
    }
   ],
   "source": [
    "crashes[crashes['CONTRIBUTING FACTOR VEHICLE 1'] == 'Alcohol Involvement'].shape"
   ]
  },
  {
   "cell_type": "code",
   "execution_count": null,
   "metadata": {},
   "outputs": [],
   "source": []
  },
  {
   "cell_type": "markdown",
   "metadata": {},
   "source": [
    "### Hypothesis:\n",
    "\n",
    "#### Crash locations are not random. The collisions are bound to specific areas due to a badly planned network of roads/traffic signs."
   ]
  },
  {
   "cell_type": "code",
   "execution_count": null,
   "metadata": {},
   "outputs": [],
   "source": []
  },
  {
   "cell_type": "code",
   "execution_count": null,
   "metadata": {},
   "outputs": [],
   "source": []
  }
 ],
 "metadata": {
  "kernelspec": {
   "display_name": "Python 3",
   "language": "python",
   "name": "python3"
  },
  "language_info": {
   "codemirror_mode": {
    "name": "ipython",
    "version": 3
   },
   "file_extension": ".py",
   "mimetype": "text/x-python",
   "name": "python",
   "nbconvert_exporter": "python",
   "pygments_lexer": "ipython3",
   "version": "3.7.3"
  }
 },
 "nbformat": 4,
 "nbformat_minor": 2
}
