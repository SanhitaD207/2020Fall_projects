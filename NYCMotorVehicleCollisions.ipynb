{
 "cells": [
  {
   "cell_type": "code",
   "execution_count": 34,
   "metadata": {},
   "outputs": [],
   "source": [
    "import pandas as pd\n",
    "import numpy as np"
   ]
  },
  {
   "cell_type": "code",
   "execution_count": 2,
   "metadata": {},
   "outputs": [],
   "source": [
    "crashes = pd.read_csv('Motor_Vehicle_Collisions_-_Crashes.csv', low_memory=False)"
   ]
  },
  {
   "cell_type": "code",
   "execution_count": 3,
   "metadata": {},
   "outputs": [],
   "source": [
    "persons = pd.read_csv('Motor_Vehicle_Collisions_-_Person.csv', low_memory=False)"
   ]
  },
  {
   "cell_type": "code",
   "execution_count": 5,
   "metadata": {},
   "outputs": [],
   "source": [
    "vehicles = pd.read_csv('Motor_Vehicle_Collisions_-_Vehicles.csv', low_memory=False)"
   ]
  },
  {
   "cell_type": "code",
   "execution_count": 6,
   "metadata": {},
   "outputs": [
    {
     "data": {
      "text/plain": [
       "Index(['CRASH DATE', 'CRASH TIME', 'BOROUGH', 'ZIP CODE', 'LATITUDE',\n",
       "       'LONGITUDE', 'LOCATION', 'ON STREET NAME', 'CROSS STREET NAME',\n",
       "       'OFF STREET NAME', 'NUMBER OF PERSONS INJURED',\n",
       "       'NUMBER OF PERSONS KILLED', 'NUMBER OF PEDESTRIANS INJURED',\n",
       "       'NUMBER OF PEDESTRIANS KILLED', 'NUMBER OF CYCLIST INJURED',\n",
       "       'NUMBER OF CYCLIST KILLED', 'NUMBER OF MOTORIST INJURED',\n",
       "       'NUMBER OF MOTORIST KILLED', 'CONTRIBUTING FACTOR VEHICLE 1',\n",
       "       'CONTRIBUTING FACTOR VEHICLE 2', 'CONTRIBUTING FACTOR VEHICLE 3',\n",
       "       'CONTRIBUTING FACTOR VEHICLE 4', 'CONTRIBUTING FACTOR VEHICLE 5',\n",
       "       'COLLISION_ID', 'VEHICLE TYPE CODE 1', 'VEHICLE TYPE CODE 2',\n",
       "       'VEHICLE TYPE CODE 3', 'VEHICLE TYPE CODE 4', 'VEHICLE TYPE CODE 5'],\n",
       "      dtype='object')"
      ]
     },
     "execution_count": 6,
     "metadata": {},
     "output_type": "execute_result"
    }
   ],
   "source": [
    "crashes.columns"
   ]
  },
  {
   "cell_type": "code",
   "execution_count": 8,
   "metadata": {},
   "outputs": [
    {
     "data": {
      "text/plain": [
       "Index(['UNIQUE_ID', 'COLLISION_ID', 'CRASH_DATE', 'CRASH_TIME', 'PERSON_ID',\n",
       "       'PERSON_TYPE', 'PERSON_INJURY', 'VEHICLE_ID', 'PERSON_AGE', 'EJECTION',\n",
       "       'EMOTIONAL_STATUS', 'BODILY_INJURY', 'POSITION_IN_VEHICLE',\n",
       "       'SAFETY_EQUIPMENT', 'PED_LOCATION', 'PED_ACTION', 'COMPLAINT',\n",
       "       'PED_ROLE', 'CONTRIBUTING_FACTOR_1', 'CONTRIBUTING_FACTOR_2',\n",
       "       'PERSON_SEX'],\n",
       "      dtype='object')"
      ]
     },
     "execution_count": 8,
     "metadata": {},
     "output_type": "execute_result"
    }
   ],
   "source": [
    "persons.columns"
   ]
  },
  {
   "cell_type": "code",
   "execution_count": 20,
   "metadata": {},
   "outputs": [
    {
     "data": {
      "text/plain": [
       "Index(['UNIQUE_ID', 'COLLISION_ID', 'CRASH_DATE', 'CRASH_TIME', 'VEHICLE_ID',\n",
       "       'STATE_REGISTRATION', 'VEHICLE_TYPE', 'VEHICLE_MAKE', 'VEHICLE_MODEL',\n",
       "       'VEHICLE_YEAR', 'TRAVEL_DIRECTION', 'VEHICLE_OCCUPANTS', 'DRIVER_SEX',\n",
       "       'DRIVER_LICENSE_STATUS', 'DRIVER_LICENSE_JURISDICTION', 'PRE_CRASH',\n",
       "       'POINT_OF_IMPACT', 'VEHICLE_DAMAGE', 'VEHICLE_DAMAGE_1',\n",
       "       'VEHICLE_DAMAGE_2', 'VEHICLE_DAMAGE_3', 'PUBLIC_PROPERTY_DAMAGE',\n",
       "       'PUBLIC_PROPERTY_DAMAGE_TYPE', 'CONTRIBUTING_FACTOR_1',\n",
       "       'CONTRIBUTING_FACTOR_2'],\n",
       "      dtype='object')"
      ]
     },
     "execution_count": 20,
     "metadata": {},
     "output_type": "execute_result"
    }
   ],
   "source": [
    "vehicles.columns"
   ]
  },
  {
   "cell_type": "code",
   "execution_count": 7,
   "metadata": {},
   "outputs": [
    {
     "data": {
      "text/plain": [
       "array(['Driver Inattention/Distraction', 'Turning Improperly',\n",
       "       'Following Too Closely', 'Unsafe Speed', 'Unspecified',\n",
       "       'Backing Unsafely', 'Unsafe Lane Changing',\n",
       "       'Traffic Control Disregarded', 'Passing Too Closely',\n",
       "       'Failure to Yield Right-of-Way', nan, 'Other Vehicular',\n",
       "       'Passing or Lane Usage Improper', 'Driverless/Runaway Vehicle',\n",
       "       'Reaction to Uninvolved Vehicle', 'Illnes', 'Driver Inexperience',\n",
       "       'Obstruction/Debris', 'Steering Failure', 'Alcohol Involvement',\n",
       "       'Tire Failure/Inadequate',\n",
       "       'Pedestrian/Bicyclist/Other Pedestrian Error/Confusion',\n",
       "       'View Obstructed/Limited', 'Outside Car Distraction',\n",
       "       'Pavement Slippery', 'Aggressive Driving/Road Rage',\n",
       "       'Passenger Distraction', 'Oversized Vehicle',\n",
       "       'Traffic Control Device Improper/Non-Working',\n",
       "       'Failure to Keep Right', 'Drugs (illegal)', 'Glare', 'Fell Asleep',\n",
       "       'Pavement Defective', 'Brakes Defective', 'Eating or Drinking',\n",
       "       'Lost Consciousness', 'Fatigued/Drowsy', 'Accelerator Defective',\n",
       "       'Vehicle Vandalism', 'Lane Marking Improper/Inadequate',\n",
       "       'Cell Phone (hand-Held)', 'Animals Action',\n",
       "       'Other Electronic Device', 'Prescription Medication',\n",
       "       'Windshield Inadequate', 'Other Lighting Defects',\n",
       "       'Using On Board Navigation Device', 'Physical Disability',\n",
       "       'Tinted Windows', 'Shoulders Defective/Improper',\n",
       "       'Listening/Using Headphones', 'Headlights Defective', 'Texting',\n",
       "       'Tow Hitch Defective', 'Cell Phone (hands-free)', 'Illness', '80',\n",
       "       'Reaction to Other Uninvolved Vehicle', 'Drugs (Illegal)', '1',\n",
       "       'Cell Phone (hand-held)'], dtype=object)"
      ]
     },
     "execution_count": 7,
     "metadata": {},
     "output_type": "execute_result"
    }
   ],
   "source": [
    "crashes['CONTRIBUTING FACTOR VEHICLE 1'].unique()"
   ]
  },
  {
   "cell_type": "code",
   "execution_count": 9,
   "metadata": {},
   "outputs": [
    {
     "data": {
      "text/plain": [
       "Unspecified                                              36161\n",
       "Pedestrian/Bicyclist/Other Pedestrian Error/Confusion     8802\n",
       "Driver Inattention/Distraction                            1797\n",
       "Failure to Yield Right-of-Way                             1434\n",
       "Traffic Control Disregarded                                865\n",
       "Alcohol Involvement                                        851\n",
       "Other Vehicular                                            632\n",
       "View Obstructed/Limited                                    350\n",
       "Cell Phone (hand-Held)                                     226\n",
       "Backing Unsafely                                           155\n",
       "Passing or Lane Usage Improper                             125\n",
       "Passing Too Closely                                        104\n",
       "Aggressive Driving/Road Rage                                95\n",
       "Pavement Slippery                                           79\n",
       "Passenger Distraction                                       77\n",
       "Unsafe Speed                                                72\n",
       "Following Too Closely                                       49\n",
       "Listening/Using Headphones                                  43\n",
       "Reaction to Uninvolved Vehicle                              41\n",
       "Physical Disability                                         41\n",
       "Outside Car Distraction                                     38\n",
       "Driver Inexperience                                         37\n",
       "Glare                                                       32\n",
       "Obstruction/Debris                                          27\n",
       "Animals Action                                              27\n",
       "Drugs (illegal)                                             26\n",
       "Turning Improperly                                          24\n",
       "Other Electronic Device                                     20\n",
       "Texting                                                     18\n",
       "Driverless/Runaway Vehicle                                  16\n",
       "Traffic Control Device Improper/Non-Working                 16\n",
       "Fatigued/Drowsy                                             12\n",
       "Failure to Keep Right                                       12\n",
       "Pavement Defective                                          12\n",
       "Illnes                                                      12\n",
       "Fell Asleep                                                  9\n",
       "Unsafe Lane Changing                                         9\n",
       "Prescription Medication                                      9\n",
       "Oversized Vehicle                                            8\n",
       "Lost Consciousness                                           7\n",
       "Lane Marking Improper/Inadequate                             7\n",
       "Vehicle Vandalism                                            5\n",
       "Cell Phone (hands-free)                                      4\n",
       "Eating or Drinking                                           4\n",
       "Brakes Defective                                             2\n",
       "Headlights Defective                                         1\n",
       "Windshield Inadequate                                        1\n",
       "Tinted Windows                                               1\n",
       "Using On Board Navigation Device                             1\n",
       "Other Lighting Defects                                       1\n",
       "Tire Failure/Inadequate                                      1\n",
       "Steering Failure                                             1\n",
       "Shoulders Defective/Improper                                 1\n",
       "Name: CONTRIBUTING_FACTOR_1, dtype: int64"
      ]
     },
     "execution_count": 9,
     "metadata": {},
     "output_type": "execute_result"
    }
   ],
   "source": [
    "persons['CONTRIBUTING_FACTOR_1'].value_counts()"
   ]
  },
  {
   "cell_type": "code",
   "execution_count": 10,
   "metadata": {},
   "outputs": [
    {
     "data": {
      "text/plain": [
       "Unspecified                                              46341\n",
       "Pedestrian/Bicyclist/Other Pedestrian Error/Confusion     2349\n",
       "Failure to Yield Right-of-Way                              667\n",
       "Driver Inattention/Distraction                             656\n",
       "Traffic Control Disregarded                                582\n",
       "Other Vehicular                                            323\n",
       "Alcohol Involvement                                        265\n",
       "View Obstructed/Limited                                    221\n",
       "Cell Phone (hand-Held)                                     102\n",
       "Passing or Lane Usage Improper                              88\n",
       "Driver Inexperience                                         65\n",
       "Passing Too Closely                                         65\n",
       "Following Too Closely                                       50\n",
       "Backing Unsafely                                            50\n",
       "Unsafe Speed                                                49\n",
       "Pavement Slippery                                           45\n",
       "Aggressive Driving/Road Rage                                38\n",
       "Passenger Distraction                                       34\n",
       "Listening/Using Headphones                                  32\n",
       "Turning Improperly                                          32\n",
       "Physical Disability                                         31\n",
       "Outside Car Distraction                                     28\n",
       "Unsafe Lane Changing                                        24\n",
       "Texting                                                     23\n",
       "Reaction to Uninvolved Vehicle                              22\n",
       "Fatigued/Drowsy                                             20\n",
       "Drugs (illegal)                                             15\n",
       "Glare                                                       14\n",
       "Obstruction/Debris                                          13\n",
       "Failure to Keep Right                                       13\n",
       "Illnes                                                      11\n",
       "Vehicle Vandalism                                            7\n",
       "Other Electronic Device                                      7\n",
       "Pavement Defective                                           7\n",
       "Eating or Drinking                                           6\n",
       "Fell Asleep                                                  5\n",
       "Lane Marking Improper/Inadequate                             5\n",
       "Prescription Medication                                      5\n",
       "Lost Consciousness                                           4\n",
       "Animals Action                                               4\n",
       "Brakes Defective                                             4\n",
       "Oversized Vehicle                                            3\n",
       "Cell Phone (hands-free)                                      3\n",
       "Driverless/Runaway Vehicle                                   3\n",
       "Traffic Control Device Improper/Non-Working                  2\n",
       "Accelerator Defective                                        1\n",
       "Tire Failure/Inadequate                                      1\n",
       "Name: CONTRIBUTING_FACTOR_2, dtype: int64"
      ]
     },
     "execution_count": 10,
     "metadata": {},
     "output_type": "execute_result"
    }
   ],
   "source": [
    "persons['CONTRIBUTING_FACTOR_2'].value_counts()"
   ]
  },
  {
   "cell_type": "code",
   "execution_count": 13,
   "metadata": {},
   "outputs": [
    {
     "data": {
      "text/plain": [
       "array(['Unspecified', 'Driver Inattention/Distraction', 'Other Vehicular',\n",
       "       'Passenger Distraction', 'Unsafe Lane Changing', nan,\n",
       "       'Backing Unsafely', 'View Obstructed/Limited',\n",
       "       'Turning Improperly', 'Lost Consciousness',\n",
       "       'Aggressive Driving/Road Rage', 'Following Too Closely',\n",
       "       'Passing or Lane Usage Improper', 'Physical Disability',\n",
       "       'Fatigued/Drowsy', 'Failure to Yield Right-of-Way',\n",
       "       'Prescription Medication', 'Brakes Defective',\n",
       "       'Passing Too Closely', 'Traffic Control Disregarded',\n",
       "       'Outside Car Distraction', 'Illness',\n",
       "       'Reaction to Uninvolved Vehicle', 'Pavement Slippery',\n",
       "       'Alcohol Involvement', 'Oversized Vehicle', 'Unsafe Speed',\n",
       "       'Pedestrian/Bicyclist/Other Pedestrian Error/Confusion',\n",
       "       'Other Electronic Device', 'Driver Inexperience',\n",
       "       'Cell Phone (hand-Held)', '1', 'Glare', 'Obstruction/Debris',\n",
       "       'Failure to Keep Right', 'Fell Asleep', 'Pavement Defective',\n",
       "       'Reaction to Other Uninvolved Vehicle', 'Animals Action',\n",
       "       'Accelerator Defective', 'Tire Failure/Inadequate',\n",
       "       'Traffic Control Device Improper/Non-Working', 'Steering Failure',\n",
       "       'Lane Marking Improper/Inadequate', 'Driverless/Runaway Vehicle',\n",
       "       'Other Lighting Defects', 'Shoulders Defective/Improper', 'Illnes',\n",
       "       'Cell Phone (hands-free)', 'Vehicle Vandalism',\n",
       "       'Headlights Defective', 'Drugs (illegal)',\n",
       "       'Using On Board Navigation Device', 'Drugs (Illegal)',\n",
       "       'Windshield Inadequate', '80', 'Eating or Drinking',\n",
       "       'Cell Phone (hand-held)', 'Tow Hitch Defective', 'Tinted Windows',\n",
       "       'Texting', 'Listening/Using Headphones'], dtype=object)"
      ]
     },
     "execution_count": 13,
     "metadata": {},
     "output_type": "execute_result"
    }
   ],
   "source": [
    "vehicles['CONTRIBUTING_FACTOR_1'].unique()"
   ]
  },
  {
   "cell_type": "code",
   "execution_count": 21,
   "metadata": {},
   "outputs": [
    {
     "data": {
      "text/plain": [
       "array(['Does Not Apply', nan, 'Whiplash',\n",
       "       'Fracture - Distorted - Dislocation',\n",
       "       'Complaint of Pain or Nausea', 'Unknown', 'Minor Bleeding',\n",
       "       'Abrasion', 'None Visible', 'Internal', 'Contusion - Bruise',\n",
       "       'Complaint of Pain', 'Crush Injuries', 'Concussion', 'Minor Burn',\n",
       "       'Moderate Burn', 'Severe Lacerations', 'Severe Bleeding',\n",
       "       'Fracture - Dislocation', 'Amputation', 'Severe Burn', 'Paralysis'],\n",
       "      dtype=object)"
      ]
     },
     "execution_count": 21,
     "metadata": {},
     "output_type": "execute_result"
    }
   ],
   "source": [
    "persons['COMPLAINT'].unique()"
   ]
  },
  {
   "cell_type": "code",
   "execution_count": null,
   "metadata": {},
   "outputs": [],
   "source": []
  },
  {
   "cell_type": "code",
   "execution_count": 26,
   "metadata": {},
   "outputs": [
    {
     "data": {
      "text/plain": [
       "(4117932, 49)"
      ]
     },
     "execution_count": 26,
     "metadata": {},
     "output_type": "execute_result"
    }
   ],
   "source": [
    "crashes_persons = pd.merge(crashes, persons, left_on='COLLISION_ID', right_on='COLLISION_ID', how='inner')\n",
    "crashes_persons.shape"
   ]
  },
  {
   "cell_type": "code",
   "execution_count": 32,
   "metadata": {},
   "outputs": [
    {
     "data": {
      "text/plain": [
       "Index(['CRASH DATE', 'CRASH TIME', 'BOROUGH', 'ZIP CODE', 'LATITUDE',\n",
       "       'LONGITUDE', 'LOCATION', 'ON STREET NAME', 'CROSS STREET NAME',\n",
       "       'OFF STREET NAME', 'NUMBER OF PERSONS INJURED',\n",
       "       'NUMBER OF PERSONS KILLED', 'NUMBER OF PEDESTRIANS INJURED',\n",
       "       'NUMBER OF PEDESTRIANS KILLED', 'NUMBER OF CYCLIST INJURED',\n",
       "       'NUMBER OF CYCLIST KILLED', 'NUMBER OF MOTORIST INJURED',\n",
       "       'NUMBER OF MOTORIST KILLED', 'CONTRIBUTING FACTOR VEHICLE 1',\n",
       "       'CONTRIBUTING FACTOR VEHICLE 2', 'CONTRIBUTING FACTOR VEHICLE 3',\n",
       "       'CONTRIBUTING FACTOR VEHICLE 4', 'CONTRIBUTING FACTOR VEHICLE 5',\n",
       "       'COLLISION_ID', 'VEHICLE TYPE CODE 1', 'VEHICLE TYPE CODE 2',\n",
       "       'VEHICLE TYPE CODE 3', 'VEHICLE TYPE CODE 4', 'VEHICLE TYPE CODE 5',\n",
       "       'UNIQUE_ID', 'CRASH_DATE', 'CRASH_TIME', 'PERSON_ID', 'PERSON_TYPE',\n",
       "       'PERSON_INJURY', 'VEHICLE_ID', 'PERSON_AGE', 'EJECTION',\n",
       "       'EMOTIONAL_STATUS', 'BODILY_INJURY', 'POSITION_IN_VEHICLE',\n",
       "       'SAFETY_EQUIPMENT', 'PED_LOCATION', 'PED_ACTION', 'COMPLAINT',\n",
       "       'PED_ROLE', 'CONTRIBUTING_FACTOR_1', 'CONTRIBUTING_FACTOR_2',\n",
       "       'PERSON_SEX'],\n",
       "      dtype='object')"
      ]
     },
     "execution_count": 32,
     "metadata": {},
     "output_type": "execute_result"
    }
   ],
   "source": [
    "crashes_persons.columns"
   ]
  },
  {
   "cell_type": "code",
   "execution_count": 37,
   "metadata": {},
   "outputs": [],
   "source": [
    "crashes_persons.loc[:, 'CRASH_YEAR'] = crashes_persons['CRASH_DATE'].astype(np.str_).apply(lambda x: x.split('/')[-1])"
   ]
  },
  {
   "cell_type": "code",
   "execution_count": 39,
   "metadata": {},
   "outputs": [
    {
     "data": {
      "text/plain": [
       "M    476561\n",
       "F    237778\n",
       "U     75771\n",
       "Name: PERSON_SEX, dtype: int64"
      ]
     },
     "execution_count": 39,
     "metadata": {},
     "output_type": "execute_result"
    }
   ],
   "source": [
    "crashes_persons[crashes_persons['CRASH_YEAR'] == '2019']['PERSON_SEX'].value_counts()"
   ]
  },
  {
   "cell_type": "code",
   "execution_count": null,
   "metadata": {},
   "outputs": [],
   "source": []
  },
  {
   "cell_type": "code",
   "execution_count": null,
   "metadata": {},
   "outputs": [],
   "source": []
  },
  {
   "cell_type": "code",
   "execution_count": null,
   "metadata": {},
   "outputs": [],
   "source": []
  },
  {
   "cell_type": "code",
   "execution_count": null,
   "metadata": {},
   "outputs": [],
   "source": []
  },
  {
   "cell_type": "code",
   "execution_count": 16,
   "metadata": {},
   "outputs": [
    {
     "data": {
      "text/plain": [
       "(16592, 29)"
      ]
     },
     "execution_count": 16,
     "metadata": {},
     "output_type": "execute_result"
    }
   ],
   "source": [
    "crashes[crashes['CONTRIBUTING FACTOR VEHICLE 1'] == 'Unsafe Speed'].shape"
   ]
  },
  {
   "cell_type": "code",
   "execution_count": 18,
   "metadata": {},
   "outputs": [
    {
     "data": {
      "text/plain": [
       "(6389, 29)"
      ]
     },
     "execution_count": 18,
     "metadata": {},
     "output_type": "execute_result"
    }
   ],
   "source": [
    "crashes[crashes['CONTRIBUTING FACTOR VEHICLE 1'] == 'Pedestrian/Bicyclist/Other Pedestrian Error/Confusion'].shape"
   ]
  },
  {
   "cell_type": "code",
   "execution_count": 17,
   "metadata": {},
   "outputs": [
    {
     "data": {
      "text/plain": [
       "(20031, 25)"
      ]
     },
     "execution_count": 17,
     "metadata": {},
     "output_type": "execute_result"
    }
   ],
   "source": [
    "vehicles[vehicles['CONTRIBUTING_FACTOR_1'] == 'Unsafe Speed'].shape"
   ]
  },
  {
   "cell_type": "code",
   "execution_count": 19,
   "metadata": {},
   "outputs": [
    {
     "data": {
      "text/plain": [
       "(72, 21)"
      ]
     },
     "execution_count": 19,
     "metadata": {},
     "output_type": "execute_result"
    }
   ],
   "source": [
    "persons[persons['CONTRIBUTING_FACTOR_1'] == 'Unsafe Speed'].shape"
   ]
  },
  {
   "cell_type": "code",
   "execution_count": null,
   "metadata": {},
   "outputs": [],
   "source": []
  }
 ],
 "metadata": {
  "kernelspec": {
   "display_name": "Python 3",
   "language": "python",
   "name": "python3"
  },
  "language_info": {
   "codemirror_mode": {
    "name": "ipython",
    "version": 3
   },
   "file_extension": ".py",
   "mimetype": "text/x-python",
   "name": "python",
   "nbconvert_exporter": "python",
   "pygments_lexer": "ipython3",
   "version": "3.7.3"
  }
 },
 "nbformat": 4,
 "nbformat_minor": 2
}
